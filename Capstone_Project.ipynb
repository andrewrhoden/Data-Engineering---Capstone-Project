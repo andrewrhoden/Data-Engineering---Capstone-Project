{
 "cells": [
  {
   "attachments": {},
   "cell_type": "markdown",
   "metadata": {},
   "source": [
    "## Overview:  \n",
    "This capstone project is your opportunity to demonstrate the knowledge and abilities you have acquired throughout the course.\n",
    "This Capstone Project requires learners to work with the following technologies to manage an ETL process for a Loan Application dataset and a Credit Card dataset: Python (Pandas, advanced modules e.g., Matplotlib), MariaDB, Apache Spark (Spark Core, Spark SQL), and Python Visualization and Analytics libraries. Learners are expected to set up their environments and perform installations on their local machines. \n"
   ]
  },
  {
   "attachments": {},
   "cell_type": "markdown",
   "metadata": {},
   "source": [
    "![My Image](workflow.jpg)"
   ]
  },
  {
   "cell_type": "code",
   "execution_count": 4,
   "metadata": {},
   "outputs": [],
   "source": [
    "from pyspark.sql import SparkSession\n",
    "from pyspark.sql.types import StringType, IntegerType,TimestampType,StructField,StructType\n",
    "from datetime import datetime\n",
    "import pyspark.sql.functions as F\n",
    "from pyspark.sql.functions import  concat_ws, regexp_replace, concat,lit,col,udf, lpad,when, length,expr,substring\n",
    "import re\n",
    "import requests\n",
    "import json\n",
    "from pyspark import SparkContext, SparkConf\n",
    "import pandas as pd\n",
    "import seaborn as sns\n",
    "import matplotlib.pyplot as plt\n",
    "import mysql.connector\n",
    "import configparser\n",
    "import pyinputplus as pyip\n",
    "\n"
   ]
  },
  {
   "cell_type": "code",
   "execution_count": 5,
   "metadata": {},
   "outputs": [],
   "source": [
    "config = configparser.ConfigParser()\n",
    "config.read('config.ini')\n",
    "\n",
    "host = config['DATABASE']['host']\n",
    "user = config['DATABASE']['user']\n",
    "password = config['DATABASE']['password']\n",
    "database = config['DATABASE']['database']"
   ]
  },
  {
   "attachments": {},
   "cell_type": "markdown",
   "metadata": {},
   "source": []
  },
  {
   "cell_type": "code",
   "execution_count": 6,
   "metadata": {},
   "outputs": [],
   "source": [
    "spark = SparkSession.builder.appName(\"CreditCardSystem\").getOrCreate()\n"
   ]
  },
  {
   "cell_type": "code",
   "execution_count": 7,
   "metadata": {},
   "outputs": [],
   "source": [
    "branch_df=spark.read.json(\"cdw_sapp_branch.json\")\n",
    "creditcard_df=spark.read.json(\"cdw_sapp_credit.json\")\n",
    "customer_df=spark.read.json(\"cdw_sapp_custmer.json\")\n"
   ]
  },
  {
   "cell_type": "code",
   "execution_count": 19,
   "metadata": {},
   "outputs": [],
   "source": [
    "spark.stop()"
   ]
  },
  {
   "attachments": {},
   "cell_type": "markdown",
   "metadata": {},
   "source": [
    "### Transform Customer Data frame"
   ]
  },
  {
   "cell_type": "code",
   "execution_count": 6,
   "metadata": {},
   "outputs": [],
   "source": [
    "# add area code 555 as the first 3 characters for customer phone number, so we can  convert cust_phone column into this format (XXX)XXX-XXXX later\n",
    "customer_df = customer_df.withColumn(\"CUST_PHONE\", concat(lit(\"555\"), customer_df[\"CUST_PHONE\"]))"
   ]
  },
  {
   "cell_type": "code",
   "execution_count": 7,
   "metadata": {},
   "outputs": [],
   "source": [
    "customer_df = customer_df.withColumn(\"cust_phone\", \n",
    "                   expr(\"concat('(', substring(cust_phone, 1, 3), ')',  \" \n",
    "                        \"substring(cust_phone, 4, 3), '-', \"\n",
    "                        \"substring(cust_phone, 7, 4))\").cast(\"string\"))\n",
    " \n",
    "customer_df = customer_df.withColumn(\"FIRST_NAME\", F.initcap(\"FIRST_NAME\").cast(\"string\"))\n",
    "customer_df = customer_df.withColumn(\"SSN\", customer_df[\"SSN\"].cast(\"int\"))\n",
    "customer_df = customer_df.withColumn(\"MIDDLE_NAME\", F.lower(customer_df[\"MIDDLE_NAME\"]).cast(\"string\"))\n",
    "customer_df = customer_df.withColumn(\"LAST_NAME\", F.initcap(customer_df[\"LAST_NAME\"]).cast(\"string\"))\n",
    "customer_df = customer_df.withColumn(\"FULL_STREET_ADDRESS\", F.concat_ws(\", \", customer_df[\"APT_NO\"],customer_df[\"STREET_NAME\"]).cast(\"string\"))\n",
    "customer_df = customer_df.withColumn(\"CREDIT_CARD_NO\", customer_df[\"CREDIT_CARD_NO\"].cast(\"string\"))\n",
    "customer_df = customer_df.withColumn(\"CUST_CITY\", customer_df[\"CUST_CITY\"].cast(\"string\"))\n",
    "customer_df = customer_df.withColumn(\"CUST_STATE\", customer_df[\"CUST_STATE\"].cast(\"string\"))\n",
    "customer_df = customer_df.withColumn(\"CUST_COUNTRY\", customer_df[\"CUST_COUNTRY\"].cast(\"string\"))\n",
    "customer_df = customer_df.withColumn(\"CUST_ZIP\", customer_df[\"CUST_ZIP\"].cast(\"int\"))\n",
    "\n",
    " \n",
    "#customer_df = customer_df.withColumn(\"CUST_PHONE\", F.regexp_replace(customer_df[\"CUST_PHONE\"], r'^(\\d{3})(\\d{3})(\\d{4})$', r'(\\1)\\2-\\3').cast(\"string\"))\n",
    "customer_df = customer_df.withColumn(\"CUST_EMAIL\", customer_df[\"CUST_EMAIL\"].cast(\"string\"))\n",
    "customer_df = customer_df.withColumn(\"LAST_UPDATED\", customer_df[\"LAST_UPDATED\"].cast(\"timestamp\"))\n",
    "\n",
    "customer_df=customer_df.select(\"SSN\", \"FIRST_NAME\",\"MIDDLE_NAME\",\"LAST_NAME\",\"CREDIT_CARD_NO\",\"FULL_STREET_ADDRESS\",\"CUST_CITY\", \"CUST_STATE\",\"CUST_COUNTRY\",\"CUST_ZIP\",\"CUST_PHONE\",\"CUST_EMAIL\",\"LAST_UPDATED\")"
   ]
  },
  {
   "cell_type": "code",
   "execution_count": 7,
   "metadata": {},
   "outputs": [
    {
     "name": "stdout",
     "output_type": "stream",
     "text": [
      "root\n",
      " |-- SSN: integer (nullable = true)\n",
      " |-- FIRST_NAME: string (nullable = true)\n",
      " |-- MIDDLE_NAME: string (nullable = true)\n",
      " |-- LAST_NAME: string (nullable = true)\n",
      " |-- CREDIT_CARD_NO: string (nullable = true)\n",
      " |-- FULL_STREET_ADDRESS: string (nullable = false)\n",
      " |-- CUST_CITY: string (nullable = true)\n",
      " |-- CUST_STATE: string (nullable = true)\n",
      " |-- CUST_COUNTRY: string (nullable = true)\n",
      " |-- CUST_ZIP: integer (nullable = true)\n",
      " |-- CUST_PHONE: string (nullable = true)\n",
      " |-- CUST_EMAIL: string (nullable = true)\n",
      " |-- LAST_UPDATED: timestamp (nullable = true)\n",
      "\n"
     ]
    }
   ],
   "source": [
    "customer_df.printSchema()"
   ]
  },
  {
   "cell_type": "code",
   "execution_count": 8,
   "metadata": {},
   "outputs": [
    {
     "name": "stdout",
     "output_type": "stream",
     "text": [
      "+-------+--------------------+----------+-----------+---------+--------------------+-------------------+---------+----------+-------------+------------------+-------------+--------------------+\n",
      "|summary|                 SSN|FIRST_NAME|MIDDLE_NAME|LAST_NAME|      CREDIT_CARD_NO|FULL_STREET_ADDRESS|CUST_CITY|CUST_STATE| CUST_COUNTRY|          CUST_ZIP|   CUST_PHONE|          CUST_EMAIL|\n",
      "+-------+--------------------+----------+-----------+---------+--------------------+-------------------+---------+----------+-------------+------------------+-------------+--------------------+\n",
      "|  count|                 952|       952|        952|      952|                 952|                952|      952|       952|          952|               952|          952|                 952|\n",
      "|   mean|1.2345552588130252E8|      null|       null|     null|4.210653353718597...|               null|     null|      null|         null|36312.616596638654|         null|                null|\n",
      "| stddev|  2561.1858044909427|      null|       null|     null| 2.576300828101659E7|               null|     null|      null|         null| 23945.49431677531|         null|                null|\n",
      "|    min|           123451007|      Abby|       abby|   Abbott|    4210653310061055|    1, Circle Drive|  Acworth|        AL|United States|              1810|(555)123-4574|AAguilar@example.com|\n",
      "|    max|           123459988|     Zelma|    zachary|   Zapata|    4210653399939240|    998, Shady Lane|     Zion|        WI|United States|             98908|(555)124-3558|ZStratton@example...|\n",
      "+-------+--------------------+----------+-----------+---------+--------------------+-------------------+---------+----------+-------------+------------------+-------------+--------------------+\n",
      "\n"
     ]
    }
   ],
   "source": [
    "customer_df.describe().show()"
   ]
  },
  {
   "cell_type": "code",
   "execution_count": 8,
   "metadata": {},
   "outputs": [
    {
     "name": "stdout",
     "output_type": "stream",
     "text": [
      "+---------+----------+-----------+---------+----------------+--------------------+------------+----------+-------------+--------+-------------+-------------------+-------------------+\n",
      "|      SSN|FIRST_NAME|MIDDLE_NAME|LAST_NAME|  CREDIT_CARD_NO| FULL_STREET_ADDRESS|   CUST_CITY|CUST_STATE| CUST_COUNTRY|CUST_ZIP|   CUST_PHONE|         CUST_EMAIL|       LAST_UPDATED|\n",
      "+---------+----------+-----------+---------+----------------+--------------------+------------+----------+-------------+--------+-------------+-------------------+-------------------+\n",
      "|123456100|      Alec|         wm|   Hooper|4210653310061055|656, Main Street ...|     Natchez|        MS|United States|   39120|(555)123-7818|AHooper@example.com|2018-04-21 12:49:02|\n",
      "|123453023|      Etta|    brendan|   Holman|4210653310102868|  829, Redwood Drive|Wethersfield|        CT|United States|    6109|(555)123-8933|EHolman@example.com|2018-04-21 12:49:02|\n",
      "|123454487|    Wilber|   ezequiel|   Dunham|4210653310116272|683, 12th Street ...|     Huntley|        IL|United States|   60142|(555)124-3018|WDunham@example.com|2018-04-21 12:49:02|\n",
      "|123459758|   Eugenio|      trina|    Hardy|4210653310195948|253, Country Club...|   NewBerlin|        WI|United States|   53151|(555)124-3215| EHardy@example.com|2018-04-21 12:49:02|\n",
      "|123454431|   Wilfred|        may|    Ayers|4210653310356919| 301, Madison Street|      ElPaso|        TX|United States|   79930|(555)124-2074| WAyers@example.com|2018-04-21 12:49:02|\n",
      "+---------+----------+-----------+---------+----------------+--------------------+------------+----------+-------------+--------+-------------+-------------------+-------------------+\n",
      "only showing top 5 rows\n",
      "\n"
     ]
    }
   ],
   "source": [
    "customer_df.show(5)\n"
   ]
  },
  {
   "cell_type": "markdown",
   "metadata": {},
   "source": [
    "### transform branch data frame"
   ]
  },
  {
   "cell_type": "code",
   "execution_count": 9,
   "metadata": {},
   "outputs": [],
   "source": [
    "# Convert column data types\n",
    "\n",
    "\n",
    "branch_df = branch_df.withColumn(\"BRANCH_PHONE\", \n",
    "                   expr(\"concat('(', substring(BRANCH_PHONE, 1, 3), ')',  \" \n",
    "                        \"substring(BRANCH_PHONE, 4, 3), '-', \"\n",
    "                        \"substring(BRANCH_PHONE, 7, 4))\").cast(\"string\"))\n",
    "\n",
    "branch_df = branch_df.withColumn(\"BRANCH_CODE\", branch_df[\"BRANCH_CODE\"].cast(\"int\"))\n",
    "branch_df = branch_df.withColumn(\"BRANCH_NAME\", branch_df[\"BRANCH_NAME\"].cast(\"string\"))\n",
    "branch_df = branch_df.withColumn(\"BRANCH_STREET\", branch_df[\"BRANCH_STREET\"].cast(\"string\"))\n",
    "branch_df = branch_df.withColumn(\"BRANCH_CITY\", branch_df[\"BRANCH_CITY\"].cast(\"string\"))\n",
    "branch_df = branch_df.withColumn(\"BRANCH_STATE\", branch_df[\"BRANCH_STATE\"].cast(\"string\"))\n",
    "branch_df = branch_df.withColumn(\"BRANCH_ZIP\", F.when(branch_df[\"BRANCH_ZIP\"].isNull(), 99999).otherwise(branch_df[\"BRANCH_ZIP\"].cast(\"int\")))\n",
    "#branch_df = branch_df.withColumn(\"BRANCH_PHONE\", F.regexp_replace(branch_df[\"BRANCH_PHONE\"], r\"^(\\d{3})(\\d{3})(\\d{4})$\", r\"(\\1)\\2-\\3\"))\n",
    "branch_df = branch_df.withColumn(\"LAST_UPDATED\", branch_df[\"LAST_UPDATED\"].cast(\"timestamp\"))\n",
    "\n",
    "# Select columns \n",
    "branch_df = branch_df.select(\"BRANCH_CODE\", \"BRANCH_NAME\", \"BRANCH_STREET\", \"BRANCH_CITY\", \"BRANCH_STATE\", \"BRANCH_ZIP\", \"BRANCH_PHONE\", \"LAST_UPDATED\")"
   ]
  },
  {
   "cell_type": "code",
   "execution_count": 11,
   "metadata": {},
   "outputs": [
    {
     "name": "stdout",
     "output_type": "stream",
     "text": [
      "root\n",
      " |-- BRANCH_CODE: integer (nullable = true)\n",
      " |-- BRANCH_NAME: string (nullable = true)\n",
      " |-- BRANCH_STREET: string (nullable = true)\n",
      " |-- BRANCH_CITY: string (nullable = true)\n",
      " |-- BRANCH_STATE: string (nullable = true)\n",
      " |-- BRANCH_ZIP: integer (nullable = true)\n",
      " |-- BRANCH_PHONE: string (nullable = true)\n",
      " |-- LAST_UPDATED: timestamp (nullable = true)\n",
      "\n"
     ]
    }
   ],
   "source": [
    "branch_df.printSchema()"
   ]
  },
  {
   "cell_type": "code",
   "execution_count": 12,
   "metadata": {},
   "outputs": [
    {
     "name": "stdout",
     "output_type": "stream",
     "text": [
      "+-------+-----------------+------------+-------------+-----------+------------+------------------+-------------+\n",
      "|summary|      BRANCH_CODE| BRANCH_NAME|BRANCH_STREET|BRANCH_CITY|BRANCH_STATE|        BRANCH_ZIP| BRANCH_PHONE|\n",
      "+-------+-----------------+------------+-------------+-----------+------------+------------------+-------------+\n",
      "|  count|              115|         115|          115|        115|         115|               115|          115|\n",
      "|   mean|76.67826086956522|        null|         null|       null|        null|  38975.2347826087|         null|\n",
      "| stddev|52.94113709535237|        null|         null|       null|        null|23938.156819564818|         null|\n",
      "|    min|                1|Example Bank|  11th Street|    Acworth|          AL|              2155|(123)410-5725|\n",
      "|    max|              197|Example Bank|  York Street|   YubaCity|          WI|             98908|(123)498-5926|\n",
      "+-------+-----------------+------------+-------------+-----------+------------+------------------+-------------+\n",
      "\n"
     ]
    }
   ],
   "source": [
    "branch_df.describe().show()"
   ]
  },
  {
   "cell_type": "code",
   "execution_count": 13,
   "metadata": {},
   "outputs": [
    {
     "name": "stdout",
     "output_type": "stream",
     "text": [
      "+-----------+------------+-----------------+-----------------+------------+----------+-------------+-------------------+\n",
      "|BRANCH_CODE| BRANCH_NAME|    BRANCH_STREET|      BRANCH_CITY|BRANCH_STATE|BRANCH_ZIP| BRANCH_PHONE|       LAST_UPDATED|\n",
      "+-----------+------------+-----------------+-----------------+------------+----------+-------------+-------------------+\n",
      "|          1|Example Bank|     Bridle Court|        Lakeville|          MN|     55044|(123)456-5276|2018-04-18 16:51:47|\n",
      "|          2|Example Bank|Washington Street|          Huntley|          IL|     60142|(123)461-8993|2018-04-18 16:51:47|\n",
      "|          3|Example Bank|    Warren Street|SouthRichmondHill|          NY|     11419|(123)498-5926|2018-04-18 16:51:47|\n",
      "|          4|Example Bank| Cleveland Street|       Middleburg|          FL|     32068|(123)466-3064|2018-04-18 16:51:47|\n",
      "|          5|Example Bank|      14th Street|    KingOfPrussia|          PA|     19406|(123)484-9701|2018-04-18 16:51:47|\n",
      "+-----------+------------+-----------------+-----------------+------------+----------+-------------+-------------------+\n",
      "only showing top 5 rows\n",
      "\n"
     ]
    }
   ],
   "source": [
    "branch_df.show(5)"
   ]
  },
  {
   "attachments": {},
   "cell_type": "markdown",
   "metadata": {},
   "source": [
    "### TRANSFORM CREDIT CARD DATA "
   ]
  },
  {
   "cell_type": "code",
   "execution_count": 10,
   "metadata": {},
   "outputs": [],
   "source": [
    "# Convert DAY, MONTH and YEAR into date format and create new column TIMEID with YYYYMMDD format\n",
    "creditcard_df = creditcard_df.withColumn('TIMEID', concat(creditcard_df.YEAR, lpad(creditcard_df.MONTH, 2, '0'), lpad(creditcard_df.DAY, 2, '0')).cast('int'))\n"
   ]
  },
  {
   "cell_type": "code",
   "execution_count": 11,
   "metadata": {},
   "outputs": [],
   "source": [
    " \n",
    "\n",
    "\n",
    "# Rename CREDIT_CARD_NO column as per the mapping document\n",
    "creditcard_df = creditcard_df.withColumnRenamed('CREDIT_CARD_NO', 'CUST_CC_NO') \n",
    "\n",
    "# Convert datatype of columns as per the mapping document\n",
    "creditcard_df = creditcard_df.withColumn('CUST_CC_NO', creditcard_df['CUST_CC_NO'].cast('string')) \n",
    "creditcard_df = creditcard_df.withColumn('CUST_SSN', creditcard_df['CUST_SSN'].cast('int')) \n",
    "creditcard_df = creditcard_df.withColumn('BRANCH_CODE', creditcard_df['BRANCH_CODE'].cast('int')) \n",
    "creditcard_df = creditcard_df.withColumn('TRANSACTION_TYPE', creditcard_df['TRANSACTION_TYPE'].cast('string')) \n",
    "creditcard_df = creditcard_df.withColumn('TRANSACTION_VALUE', creditcard_df['TRANSACTION_VALUE'].cast('double')) \n",
    "creditcard_df = creditcard_df.withColumn('TRANSACTION_ID', creditcard_df['TRANSACTION_ID'].cast('int')) \n",
    "creditcard_df = creditcard_df.withColumn('TIMEID', creditcard_df['TIMEID'].cast('string'))\n",
    "creditcard_df=creditcard_df.select(\"CUST_CC_NO\",\"TIMEID\",\"CUST_SSN\",\"BRANCH_CODE\",\"TRANSACTION_TYPE\",\"TRANSACTION_VALUE\",\"TRANSACTION_ID\")\n",
    " \n"
   ]
  },
  {
   "cell_type": "code",
   "execution_count": 16,
   "metadata": {},
   "outputs": [
    {
     "name": "stdout",
     "output_type": "stream",
     "text": [
      "root\n",
      " |-- CUST_CC_NO: string (nullable = true)\n",
      " |-- TIMEID: string (nullable = true)\n",
      " |-- CUST_SSN: integer (nullable = true)\n",
      " |-- BRANCH_CODE: integer (nullable = true)\n",
      " |-- TRANSACTION_TYPE: string (nullable = true)\n",
      " |-- TRANSACTION_VALUE: double (nullable = true)\n",
      " |-- TRANSACTION_ID: integer (nullable = true)\n",
      "\n"
     ]
    }
   ],
   "source": [
    "creditcard_df.printSchema()"
   ]
  },
  {
   "cell_type": "code",
   "execution_count": 12,
   "metadata": {},
   "outputs": [
    {
     "name": "stdout",
     "output_type": "stream",
     "text": [
      "+----------------+--------+---------+-----------+----------------+-----------------+--------------+\n",
      "|      CUST_CC_NO|  TIMEID| CUST_SSN|BRANCH_CODE|TRANSACTION_TYPE|TRANSACTION_VALUE|TRANSACTION_ID|\n",
      "+----------------+--------+---------+-----------+----------------+-----------------+--------------+\n",
      "|4210653349028689|20180214|123459988|        114|       Education|             78.9|             1|\n",
      "|4210653349028689|20180320|123459988|         35|   Entertainment|            14.24|             2|\n",
      "|4210653349028689|20180708|123459988|        160|         Grocery|             56.7|             3|\n",
      "|4210653349028689|20180419|123459988|        114|   Entertainment|            59.73|             4|\n",
      "|4210653349028689|20181010|123459988|         93|             Gas|             3.59|             5|\n",
      "|4210653349028689|20180528|123459988|        164|       Education|             6.89|             6|\n",
      "|4210653349028689|20180519|123459988|        119|   Entertainment|            43.39|             7|\n",
      "|4210653349028689|20180808|123459988|         23|             Gas|            95.39|             8|\n",
      "|4210653349028689|20180318|123459988|        166|   Entertainment|            93.26|             9|\n",
      "|4210653349028689|20180903|123459988|         83|           Bills|           100.38|            10|\n",
      "+----------------+--------+---------+-----------+----------------+-----------------+--------------+\n",
      "only showing top 10 rows\n",
      "\n"
     ]
    }
   ],
   "source": [
    "creditcard_df.show(10)"
   ]
  },
  {
   "cell_type": "code",
   "execution_count": 18,
   "metadata": {},
   "outputs": [
    {
     "name": "stdout",
     "output_type": "stream",
     "text": [
      "+-------+--------------------+------------------+-------------------+------------------+----------------+------------------+------------------+\n",
      "|summary|          CUST_CC_NO|            TIMEID|           CUST_SSN|       BRANCH_CODE|TRANSACTION_TYPE| TRANSACTION_VALUE|    TRANSACTION_ID|\n",
      "+-------+--------------------+------------------+-------------------+------------------+----------------+------------------+------------------+\n",
      "|  count|               46694|             46694|              46694|             46694|           46694|             46694|             46694|\n",
      "|   mean|4.210653353368964E15|2.01806661949501E7|1.234555184812824E8| 75.00057823274939|            null| 51.03938214759932|           23347.5|\n",
      "| stddev|2.5604641248039957E7|345.41894155270205| 2561.2609103365367|51.389074910957895|            null|28.783264046884938|13479.541071564714|\n",
      "|    min|    4210653310061055|          20180101|          123451007|                 1|           Bills|              1.01|                 1|\n",
      "|    max|    4210653399939240|          20181228|          123459988|               192|            Test|            100.99|             46694|\n",
      "+-------+--------------------+------------------+-------------------+------------------+----------------+------------------+------------------+\n",
      "\n"
     ]
    }
   ],
   "source": [
    "creditcard_df.describe().show()"
   ]
  },
  {
   "attachments": {},
   "cell_type": "markdown",
   "metadata": {},
   "source": [
    "### Load data into Database"
   ]
  },
  {
   "cell_type": "code",
   "execution_count": 19,
   "metadata": {},
   "outputs": [
    {
     "name": "stdout",
     "output_type": "stream",
     "text": [
      "Error connecting to MariaDB: 1007 (HY000): Can't create database 'creditcard_capstone'; database exists\n"
     ]
    }
   ],
   "source": [
    "# Connect to MariaDB server\n",
    "try:\n",
    "    cnx = mysql.connector.connect(user=user, password=password,\n",
    "                              host=host)\n",
    "\n",
    "    # Create database\n",
    "    cursor = cnx.cursor()\n",
    "    DB_NAME = 'creditcard_capstone'\n",
    "    cursor.execute(\"CREATE DATABASE {} DEFAULT CHARACTER SET 'utf8'\".format(DB_NAME))\n",
    "    \n",
    "except mysql.connector.Error as err:\n",
    "    print(\"Error connecting to MariaDB: {}\".format(err))\n",
    "    exit()"
   ]
  },
  {
   "cell_type": "code",
   "execution_count": 20,
   "metadata": {},
   "outputs": [],
   "source": [
    "# Connect to mariadb\n",
    "\n",
    "try:\n",
    "    cnx = mysql.connector.connect(user=user, password=password,\n",
    "                              host=host,\n",
    "                              database=database)\n",
    "    cursor = cnx.cursor()\n",
    "\n",
    "except mysql.connector.Error as err:\n",
    "    print(\"Error connecting to MariaDB: {}\".format(err))\n",
    "    exit()"
   ]
  },
  {
   "cell_type": "code",
   "execution_count": 21,
   "metadata": {},
   "outputs": [],
   "source": [
    "try:\n",
    "    cursor.execute(\"\"\"CREATE TABLE IF NOT EXISTS CDW_SAPP_BRANCH (\n",
    "        BRANCH_CODE INT PRIMARY KEY, \n",
    "        BRANCH_NAME VARCHAR(50) NOT NULL, \n",
    "        BRANCH_STREET VARCHAR(100) NOT NULL, \n",
    "        BRANCH_CITY VARCHAR(50) NOT NULL, \n",
    "        BRANCH_STATE VARCHAR(50) NOT NULL, \n",
    "        BRANCH_ZIP INT NOT NULL, \n",
    "        BRANCH_PHONE VARCHAR(20) NOT NULL, \n",
    "        LAST_UPDATED TIMESTAMP NOT NULL)\"\"\")\n",
    "    \n",
    "    cursor.execute(\"\"\"CREATE TABLE IF NOT EXISTS CDW_SAPP_CREDIT_CARD (\n",
    "        CUST_CC_NO VARCHAR(50) PRIMARY KEY, \n",
    "        TIMEID VARCHAR(8)NOT NULL, \n",
    "        CUST_SSN INT NOT NULL, \n",
    "        BRANCH_CODE INT NOT NULL, \n",
    "        TRANSACTION_TYPE VARCHAR(20) NOT NULL, \n",
    "        TRANSACTION_VALUE DOUBLE NOT NULL, \n",
    "        TRANSACTION_ID INT NOT NULL)\"\"\")\n",
    "    \n",
    "    cursor.execute(\"\"\"CREATE TABLE IF NOT EXISTS CDW_SAPP_CUSTOMER (\n",
    "        SSN INT PRIMARY KEY, \n",
    "        CREDIT_CARD_NO VARCHAR(50) NOT NULL, \n",
    "        CUST_FIRST_NAME VARCHAR(50) NOT NULL, \n",
    "        CUST_MIDDLE_NAME VARCHAR(50) NOT NULL, \n",
    "        CUST_LAST_NAME VARCHAR(50) NOT NULL, \n",
    "        CUST_STREET_ADDRESS VARCHAR(100) NOT NULL, \n",
    "        CUST_APT_NO VARCHAR(10) NOT NULL, \n",
    "        CUST_CITY VARCHAR(50) NOT NULL, \n",
    "        CUST_STATE VARCHAR(50) NOT NULL, \n",
    "        CUST_COUNTRY VARCHAR(50) NOT NULL, \n",
    "        CUST_ZIP INT NOT NULL, \n",
    "        CUST_PHONE VARCHAR(10) NOT NULL, \n",
    "        CUST_EMAIL VARCHAR(50) NOT NULL, \n",
    "        LAST_UPDATED TIMESTAMP NOT NULL)\"\"\")\n",
    "    \n",
    "except mysql.connector.Error as err:\n",
    "    print(\"Error creating tables: {}\".format(err))\n",
    "    exit()\n"
   ]
  },
  {
   "cell_type": "code",
   "execution_count": null,
   "metadata": {},
   "outputs": [
    {
     "ename": "",
     "evalue": "",
     "output_type": "error",
     "traceback": [
      "\u001b[1;31mCanceled future for execute_request message before replies were done"
     ]
    },
    {
     "ename": "",
     "evalue": "",
     "output_type": "error",
     "traceback": [
      "\u001b[1;31mThe Kernel crashed while executing code in the the current cell or a previous cell. Please review the code in the cell(s) to identify a possible cause of the failure. Click <a href='https://aka.ms/vscodeJupyterKernelCrash'>here</a> for more info. View Jupyter <a href='command:jupyter.viewOutput'>log</a> for further details."
     ]
    }
   ],
   "source": [
    "# Load the data into the database tables\n",
    "try:\n",
    "    branch_df.write.jdbc(url='jdbc:mysql://localhost:3306/creditcard_capstone', table='CDW_SAPP_BRANCH', mode='overwrite', properties={'user': user, 'password': password})\n",
    "    creditcard_df.write.jdbc(url='jdbc:mysql://localhost:3306/creditcard_capstone', table='CDW_SAPP_CREDIT_CARD', mode='overwrite', properties={'user': user, 'password': password})\n",
    "    customer_df.write.jdbc(url='jdbc:mysql://localhost:3306/creditcard_capstone', table='CDW_SAPP_CUSTOMER', mode='overwrite', properties={'user': user, 'password': password})\n",
    "    cnx.commit() # commit the changes\n",
    "    \n",
    "    # Close the database and cursor connection\n",
    "    cursor.close()\n",
    "    cnx.close()\n",
    "except mysql.connector.Error as err:\n",
    "    print(\"Error loading data: {}\".format(err))\n",
    "    exit()\n"
   ]
  },
  {
   "attachments": {},
   "cell_type": "markdown",
   "metadata": {},
   "source": [
    "### 2. Functional Requirements - Application Front-End"
   ]
  },
  {
   "attachments": {},
   "cell_type": "markdown",
   "metadata": {},
   "source": [
    "##### Transaction details menu"
   ]
  },
  {
   "cell_type": "code",
   "execution_count": null,
   "metadata": {},
   "outputs": [],
   "source": [
    "\n",
    "while True:\n",
    "    print(\"\\n--- Transaction Details Menu ---\")\n",
    "    print(\"1) Display transactions by zip code and month\")\n",
    "    print(\"2) Display number and total value of transactions by type\")\n",
    "    print(\"3) Display number and total value of transactions by branch state\")\n",
    "    print(\"4) Quit\")\n",
    "    choice = pyip.inputInt(\"Enter your choice: \", min=1, max=4)\n",
    "\n",
    "    if choice == 1:\n",
    "        # Display transactions by zip code and month\n",
    "        zip_code = pyip.inputStr(\"Enter the zip code: \")\n",
    "        month = pyip.inputInt(\"Enter the month (1-12): \", min=1, max=12)\n",
    "        year = pyip.inputInt(\"Enter the year (YYYY): \")\n",
    "\n",
    "        query = (f\"SELECT DAY, TRANSACTION_TYPE, TRANSACTION_VALUE \"\n",
    "                 f\"FROM CDW_SAPP_CREDIT_CARD \"\n",
    "                 f\"WHERE YEAR = {year} AND MONTH = {month} \"\n",
    "                 f\"AND CREDIT_CARD_NO IN \"\n",
    "                 f\"(SELECT CREDIT_CARD_NO FROM CDW_SAPP_CUSTOMER WHERE CUST_ZIP = '{zip_code}') \"\n",
    "                 f\"ORDER BY DAY DESC\")\n",
    "        cursor.execute(query)\n",
    "        result = cursor.fetchall()\n",
    "\n",
    "        print(f\"\\nTransactions for zip code {zip_code} in {month}/{year}:\")\n",
    "        for row in result:\n",
    "            print(f\"Date: {row[0]}, Type: {row[1]}, Value: {row[2]}\")\n",
    "\n",
    "    elif choice == 2:\n",
    "        # Display number and total value of transactions by type\n",
    "        transaction_type = pyip.inputStr(\"Enter the transaction type: \")\n",
    "\n",
    "        query = (f\"SELECT COUNT(*), SUM(TRANSACTION_VALUE) \"\n",
    "                 f\"FROM CDW_SAPP_CREDIT_CARD \"\n",
    "                 f\"WHERE TRANSACTION_TYPE = '{transaction_type}'\")\n",
    "        cursor.execute(query)\n",
    "        result = cursor.fetchone()\n",
    "\n",
    "        print(f\"\\nNumber of {transaction_type} transactions: {result[0]}\")\n",
    "        print(f\"Total value of {transaction_type} transactions: {result[1]:.2f}\")\n",
    "\n",
    "    elif choice == 3:\n",
    "        # Display number and total value of transactions by branch state\n",
    "        branch_state = pyip.inputStr(\"Enter the branch state: \")\n",
    "\n",
    "        query = (f\"SELECT COUNT(*), SUM(TRANSACTION_VALUE) \"\n",
    "                 f\"FROM CDW_SAPP_CREDIT_CARD \"\n",
    "                 f\"WHERE BRANCH_CODE IN \"\n",
    "                 f\"(SELECT BRANCH_CODE FROM CDW_SAPP_BRANCH WHERE BRANCH_STATE = '{branch_state}')\")\n",
    "        cursor.execute(query)\n",
    "        result = cursor.fetchone()\n",
    "\n",
    "        print(f\"\\nNumber of transactions in {branch_state} branches: {result[0]}\")\n",
    "        print(f\"Total value of transactions in {branch_state} branches: {result[1]:.2f}\")\n",
    "\n",
    "    elif choice == 4:\n",
    "        # Quit the program\n",
    "        break\n",
    "\n"
   ]
  },
  {
   "attachments": {},
   "cell_type": "markdown",
   "metadata": {},
   "source": [
    "good code below"
   ]
  },
  {
   "cell_type": "code",
   "execution_count": 32,
   "metadata": {},
   "outputs": [
    {
     "name": "stdout",
     "output_type": "stream",
     "text": [
      "Transaction Details Menu\n",
      "1) Display transactions by zip code and date\n",
      "2) Display number and total value of transactions by type\n",
      "3) Display number and total value of transactions by branch state\n",
      "4) Quit\n",
      "Enter your choice: \n",
      "Enter zip code:\n",
      " Enter year (YYYY):\n",
      " Enter month (MM):\n",
      " (39120, 3543, 'Healthcare', 23.92)\n",
      "(39120, 12623, 'Entertainment', 10.74)\n",
      "(39120, 15223, 'Gas', 24.3)\n",
      "(39120, 15226, 'Grocery', 96.65)\n",
      "(39120, 15254, 'Healthcare', 98.94)\n",
      "(39120, 22981, 'Gas', 18.84)\n",
      "(39120, 15830, 'Healthcare', 1.36)\n",
      "(39120, 23023, 'Healthcare', 53.98)\n",
      "(39120, 12659, 'Grocery', 81.1)\n",
      "(39120, 15257, 'Grocery', 45.43)\n",
      "(39120, 12619, 'Education', 23.1)\n",
      "(39120, 3542, 'Entertainment', 12.71)\n",
      "(39120, 15261, 'Entertainment', 38.06)\n",
      "(39120, 15199, 'Test', 96.26)\n",
      "(39120, 23037, 'Grocery', 18.22)\n",
      "(39120, 2210, 'Bills', 87.25)\n",
      "(39120, 2165, 'Entertainment', 38.15)\n",
      "(39120, 12665, 'Grocery', 6.72)\n",
      "(39120, 15817, 'Healthcare', 93.6)\n",
      "(39120, 22993, 'Bills', 46.14)\n",
      "(39120, 23036, 'Bills', 74.63)\n",
      "(39120, 12621, 'Bills', 53.87)\n",
      "(39120, 15213, 'Test', 90.95)\n",
      "(39120, 23004, 'Education', 82.18)\n",
      "(39120, 12641, 'Education', 90.37)\n",
      "(39120, 2204, 'Entertainment', 16.44)\n",
      "(39120, 15177, 'Test', 100.5)\n",
      "(39120, 15267, 'Bills', 22.17)\n",
      "(39120, 20550, 'Healthcare', 46.21)\n",
      "(39120, 2216, 'Education', 17.88)\n",
      "(39120, 2196, 'Healthcare', 25.24)\n",
      "(39120, 12643, 'Education', 58.35)\n",
      "(39120, 3549, 'Healthcare', 38.4)\n",
      "(39120, 3548, 'Test', 38.85)\n",
      "(39120, 15206, 'Education', 28.96)\n",
      "(39120, 3530, 'Gas', 40.91)\n",
      "(39120, 22989, 'Gas', 89.75)\n",
      "(39120, 2211, 'Test', 55.19)\n",
      "Transaction Details Menu\n",
      "1) Display transactions by zip code and date\n",
      "2) Display number and total value of transactions by type\n",
      "3) Display number and total value of transactions by branch state\n",
      "4) Quit\n",
      "Enter your choice: \n",
      "Exiting program.\n"
     ]
    }
   ],
   "source": [
    "\n",
    "# Connect to the creditcard_capstone database\n",
    "db = mysql.connector.connect(\n",
    "    host=host,\n",
    "    user=user,\n",
    "    password=password,\n",
    "    database=database\n",
    ")\n",
    "\n",
    "# Create a cursor to execute SQL queries\n",
    "cursor = db.cursor()\n",
    "\n",
    "while True:\n",
    "    print(\"Transaction Details Menu\")\n",
    "    print(\"1) Display transactions by zip code and date\")\n",
    "    print(\"2) Display number and total value of transactions by type\")\n",
    "    print(\"3) Display number and total value of transactions by branch state\")\n",
    "    print(\"4) Quit\")\n",
    "    \n",
    "    choice = pyip.inputInt(prompt=\"Enter your choice: \\n\", min=1, max=4)\n",
    "    \n",
    "    if choice == 1:\n",
    "        # Display transactions by zip code and date\n",
    "        zip_code = pyip.inputInt(prompt=\"Enter zip code:\\n \")\n",
    "        year = pyip.inputInt(prompt=\"Enter year (YYYY):\\n \")\n",
    "        month = pyip.inputInt(prompt=\"Enter month (MM):\\n \")\n",
    "        \n",
    "        # Execute SQL query to retrieve transactions by zip code and date\n",
    "        query = f\"SELECT cust_zip,transaction_id,transaction_type,transaction_value FROM cdw_sapp_credit_card cc JOIN cdw_sapp_customer c on ssn=cust_ssn WHERE MONTH(TIMEID)={month} AND YEAR(TIMEID)={year} AND CUST_ZIP={zip_code} ORDER BY DAY(TIMEID) DESC\"\n",
    "        cursor.execute(query)\n",
    "        results = cursor.fetchall()\n",
    "        \n",
    "        # Display the results\n",
    "        if results:\n",
    "            for result in results:\n",
    "                \n",
    "                print(result)\n",
    "        else:\n",
    "            print(\"No results found.\\n\")\n",
    "        \n",
    "    elif choice == 2:\n",
    "        # Display number and total value of transactions by type\n",
    "        transaction_type = pyip.inputStr(prompt=\"Enter transaction type: \")\n",
    "        \n",
    "        # Execute SQL query to retrieve number and total value of transactions by type\n",
    "        query = f\"SELECT COUNT(TRANSACTION_ID), SUM(TRANSACTION_VALUE) FROM cdw_sapp_credit_card WHERE TRANSACTION_TYPE='{transaction_type.upper()}'\"\n",
    "        cursor.execute(query)\n",
    "        results = cursor.fetchone()\n",
    "        \n",
    "        # Display the results\n",
    "        if results[0] > 0:\n",
    "            print(f\"Number of {transaction_type} transactions: {results[0]}\\n\")\n",
    "            print(f\"Total value of {transaction_type} transactions: ${results[1]:,.2f}\\n\")\n",
    "        else:\n",
    "            print(f\"No {transaction_type} transactions found.\")\n",
    "        \n",
    "    elif choice == 3:\n",
    "        # Display number and total value of transactions by branch state\n",
    "        branch_state = pyip.inputStr(prompt=\"Enter branch state: \")\n",
    "        \n",
    "        # Execute SQL query to retrieve number and total value of transactions by branch state\n",
    "        query = f\"SELECT COUNT(TRANSACTION_ID), SUM(TRANSACTION_VALUE) FROM cdw_sapp_credit_card c JOIN cdw_sapp_branch b ON c.BRANCH_CODE=b.BRANCH_CODE WHERE b.BRANCH_STATE='{branch_state.upper()}'\"\n",
    "        cursor.execute(query)\n",
    "        results = cursor.fetchone()\n",
    "        \n",
    "        # Display the results\n",
    "        if results[0] > 0:\n",
    "            print(f\"Number of transactions in {branch_state}: {results[0]}\\n\")\n",
    "            print(f\"Total value of transactions in {branch_state}: ${results[1]:,.2f}\\n\")\n",
    "        else:\n",
    "            print(f\"No transactions found in {branch_state}.\")\n",
    "        \n",
    "    elif choice == 4:\n",
    "        # Quit the program\n",
    "        print(\"Exiting program.\")\n",
    "        break\n",
    "        \n",
    "    else:\n",
    "        print(\"Invalid choice. Please try again.\")\n",
    "        \n",
    "# Close the database connection\n",
    "db.close()\n"
   ]
  },
  {
   "attachments": {},
   "cell_type": "markdown",
   "metadata": {},
   "source": [
    " ##### Customer Details menu"
   ]
  },
  {
   "cell_type": "code",
   "execution_count": null,
   "metadata": {},
   "outputs": [],
   "source": [
    " \n",
    "\n",
    "# Connect to the database\n",
    "db = mysql.connector.connect(\n",
    "    host=host,\n",
    "    user=user,\n",
    "    password=password,\n",
    "    database=database\n",
    ")\n",
    "\n",
    "# Create a cursor object to execute SQL queries\n",
    "cursor = db.cursor()\n",
    "\n",
    "# Customer Details Menu\n",
    "while True:\n",
    "    print(\"CUSTOMER DETAILS MENU\")\n",
    "    print(\"1. Check existing account details\")\n",
    "    print(\"2. Modify existing account details\")\n",
    "    print(\"3. Generate monthly bill\")\n",
    "    print(\"4. Display transactions between two dates\")\n",
    "    print(\"5. Exit\")\n",
    "    choice = pyip.inputInt(\"Enter your choice (1-5):\\n \", min=1, max=5)\n",
    "    \n",
    "    if choice == 1:\n",
    "        # Check existing account details\n",
    "        credit_card_no = pyip.inputStr(\"Enter credit card number: \\n\")\n",
    "        query = f\"SELECT * FROM CDW_SAPP_CUSTOMER WHERE CREDIT_CARD_NO = '{credit_card_no}'\"\n",
    "        cursor.execute(query)\n",
    "        result = cursor.fetchall()\n",
    "        if result:\n",
    "            print(result)\n",
    "        else:\n",
    "            print(\"Customer not found.\")\n",
    "    \n",
    "    elif choice == 2:\n",
    "        # Modify existing account details\n",
    "        credit_card_no = pyip.inputStr(\"Enter credit card number: \")\n",
    "        query = f\"SELECT * FROM CDW_SAPP_CUSTOMER WHERE CREDIT_CARD_NO = '{credit_card_no}'\"\n",
    "        cursor.execute(query)\n",
    "        result = cursor.fetchone()\n",
    "        if result:\n",
    "            print(f\"Customer Details for {credit_card_no}:\\n\")\n",
    "            print(f\"1. Name: {result[1]} {result[2]} {result[3]}\\n\")\n",
    "            print(f\"2. Address: {result[9]} {result[10]} {result[11]} {result[12]} {result[13]}\\n\")\n",
    "            print(f\"3. Phone: {result[14]}\\n\")\n",
    "            print(f\"4. Email: {result[15]}\\n\")\n",
    "            field = pyip.inputInt(\"Enter field number to modify (1-4): \", min=1, max=4)\n",
    "            if field == 1:\n",
    "                first_name = pyip.inputStr(\"Enter first name: \\n\")\n",
    "                middle_name = pyip.inputStr(\"Enter middle name: \\n\")\n",
    "                last_name = pyip.inputStr(\"Enter last name: \\n\")\n",
    "                first_name = first_name.title()\n",
    "                middle_name = middle_name.lower()\n",
    "                last_name = last_name.title()\n",
    "                query = f\"UPDATE CDW_SAPP_CUSTOMER SET FIRST_NAME = '{first_name}', MIDDLE_NAME = '{middle_name}', LAST_NAME = '{last_name}' WHERE CREDIT_CARD_NO = '{credit_card_no}'\"\n",
    "                cursor.execute(query)\n",
    "                db.commit()\n",
    "                print(\"Customer details updated successfully.\\n\")\n",
    "            elif field == 2:\n",
    "                apt_no = pyip.inputStr(\"Enter apartment number: \\n\")\n",
    "                street = pyip.inputStr(\"Enter street name: \\n\")\n",
    "                full_street_address = f\"{apt_no}, {street} \"\n",
    "                query = f\"UPDATE CDW_SAPP_CUSTOMER SET FULL_STREET_ADDRESS = '{full_street_address}' WHERE CREDIT_CARD_NO = '{credit_card_no}'\"\n",
    "                cursor.execute(query)\n",
    "                db.commit()\n",
    "                print(\"Customer details updated successfully.\\n\")\n",
    "            elif field == 3:\n",
    "                phone = pyip.inputStr(\"Enter the 10 digit phone number without spaces or hyphen: \\n\")\n",
    "                phone = f\"({phone[:3]}){phone[3:6]}-{phone[6:]}\"\n",
    "                query = f\"UPDATE CDW_SAPP_CUSTOMER SET CUST_PHONE = '{phone}' WHERE CREDIT_CARD_NO = '{credit_card_no}'\"\n",
    "                cursor.execute(query)\n",
    "                db.commit()\n",
    "                print(\"Phone number updated successfully!\\n\")\n",
    "\n",
    "            elif field == 4:\n",
    "                email = pyip.inputEmail(\"Enter email address:\\n \")\n",
    "                query = f\"UPDATE CDW_SAPP_CUSTOMER SET CUST_EMAIL = '{email}' WHERE CREDIT_CARD_NO = '{credit_card_no}'\"\n",
    "                cursor.execute(query)\n",
    "                db.commit()\n",
    "                print(\"Email address updated successfully!\\n\")\n",
    "            \n",
    "            elif field == 5:\n",
    "                address = pyip.inputStr(\"Enter full street address (with apartment number if applicable): \")\n",
    "                query = f\"UPDATE CDW_SAPP_CUSTOMER SET FULL_STREET_ADDRESS = '{address}' WHERE CREDIT_CARD_NO = '{credit_card_no}'\"\n",
    "                cursor.execute(query)\n",
    "                db.commit()\n",
    "                print(\"Address updated successfully!\\n\")\n",
    "            \n",
    "            elif field == 6:\n",
    "                print(\"Returning to main menu.\\n\")\n",
    "                break\n",
    "        \n",
    "            else:\n",
    "                print(\"Invalid input. Please enter a number between 1 and 6.\\n\")"
   ]
  },
  {
   "cell_type": "code",
   "execution_count": null,
   "metadata": {},
   "outputs": [],
   "source": [
    "\n",
    "\n",
    "# create connection to database\n",
    "db = mysql.connector.connect(\n",
    "    host=host,\n",
    "    user=user,\n",
    "    password=password,\n",
    "    database=database\n",
    ")\n",
    "\n",
    "# create cursor object\n",
    "cursor = db.cursor()\n",
    "\n",
    "# main menu loop\n",
    "while True:\n",
    "    print(\"Customer Details Menu:\")   \n",
    "    print(\"1) Check existing account details\")\n",
    "    print(\"2) Modify existing account details\")\n",
    "    print(\"3) Generate monthly bill\")\n",
    "    print(\"4) Display transactions between two dates\")\n",
    "    print(\"5) Exit program\")\n",
    "    choice = pyip.inputInt(prompt=\"Enter your choice: \")\n",
    "\n",
    "    if choice == 1:\n",
    "        # check existing account details\n",
    "        cc_no = pyip.inputStr(prompt=\"Enter credit card number: \")\n",
    "        cursor.execute(f\"SELECT * FROM CDW_SAPP_CUSTOMER WHERE CREDIT_CARD_NO = '{cc_no}'\")\n",
    "        result = cursor.fetchall()\n",
    "        if len(result) == 0:\n",
    "            print(\"Credit card number not found.\")\n",
    "        else:\n",
    "            print(\"Customer details:\")\n",
    "            for row in result:\n",
    "                print(row)\n",
    "\n",
    "    elif choice == 2:\n",
    "        # modify existing account details\n",
    "        cc_no = pyip.inputStr(prompt=\"Enter credit card number: \")\n",
    "        cursor.execute(f\"SELECT * FROM CDW_SAPP_CUSTOMER WHERE CREDIT_CARD_NO = '{cc_no}'\")\n",
    "        result = cursor.fetchall()\n",
    "        if len(result) == 0:\n",
    "            print(\"Credit card number not found.\")\n",
    "        else:\n",
    "            print(\"Customer details:\")\n",
    "            for row in result:\n",
    "                print(row)\n",
    "            field = pyip.inputStr(prompt=\"Enter field to modify: \")\n",
    "            new_value = pyip.inputStr(prompt=f\"Enter new value for {field}: \")\n",
    "            cursor.execute(f\"UPDATE CDW_SAPP_CUSTOMER SET {field} = '{new_value}' WHERE CREDIT_CARD_NO = '{cc_no}'\")\n",
    "            db.commit()\n",
    "            print(\"Customer details updated.\")\n",
    "\n",
    "    elif choice == 3:\n",
    "        # generate monthly bill\n",
    "        cc_no = pyip.inputStr(prompt=\"Enter credit card number: \")\n",
    "        month = pyip.inputInt(prompt=\"Enter month (1-12): \")\n",
    "        year = pyip.inputInt(prompt=\"Enter year (YYYY): \")\n",
    "        cursor.execute(f\"SELECT * FROM CDW_SAPP_CREDIT_CARD WHERE CUST_CC_NO = '{cc_no}' AND MONTH(TIMEID) = {month} AND YEAR(TIMEID) = {year}\")\n",
    "        result = cursor.fetchall()\n",
    "        if len(result) == 0:\n",
    "            print(\"No transactions found for this credit card number and month/year.\")\n",
    "        else:\n",
    "            total = 0\n",
    "            print(\"Transaction details:\")\n",
    "            for row in result:\n",
    "                print(row)\n",
    "                total += row[5]\n",
    "            print(f\"Total transaction value for this month: {total}\")\n",
    "\n",
    "    elif choice == 4:\n",
    "        # display transactions between two dates\n",
    "        cc_no = pyip.inputStr(prompt=\"Enter credit card number: \")\n",
    "        start_date = pyip.inputDate(prompt=\"Enter start date (MM/DD/YYYY): \")\n",
    "        end_date = pyip.inputDate(prompt=\"Enter end date (MM/DD/YYYY): \")\n",
    "        cursor.execute(f\"SELECT * FROM CDW_SAPP_CREDIT_CARD WHERE CUST_CC_NO = '{cc_no}' AND TIMEID >= '{start_date}' AND TIMEID <= '{end_date}' ORDER BY YEAR(TIMEID) DESC, MONTH(TIMEID) DESC, DAY(TIMEID) DESC\")\n",
    "        result = cursor.fetchall()\n",
    "        if len(result) == 0:\n",
    "            print(\"No transactions found for this credit card number and date range.\")\n",
    "    else:\n",
    "        print(\"Transactions:\")\n",
    "        print(\"TRANSACTION_ID | CUST_SSN | CUST_CC_NO | BRANCH_CODE | TRANSACTION_TYPE | TRANSACTION_VALUE | TIMEID\")\n",
    "        for row in result:\n",
    "            print(row[0], row[1], row[2], row[3], row[4], row[5], row[6])\n",
    "\n",
    "       \n"
   ]
  },
  {
   "cell_type": "code",
   "execution_count": 9,
   "metadata": {},
   "outputs": [
    {
     "name": "stderr",
     "output_type": "stream",
     "text": [
      "C:\\Users\\Learner_XZHCG222\\AppData\\Local\\Temp\\ipykernel_3212\\4242194883.py:17: UserWarning: pandas only supports SQLAlchemy connectable (engine/connection) or database string URI or sqlite3 DBAPI2 connection. Other DBAPI2 objects are not tested. Please consider using SQLAlchemy.\n",
      "  df = pd.read_sql(query, db)\n"
     ]
    },
    {
     "data": {
      "image/png": "[encoded data removed]",
      "text/plain": [
       "<Figure size 640x480 with 1 Axes>"
      ]
     },
     "metadata": {},
     "output_type": "display_data"
    }
   ],
   "source": [
    "# Connect to the creditcard_capstone database\n",
    "db = mysql.connector.connect(\n",
    "    host=host,\n",
    "    user=user,\n",
    "    password=password,\n",
    "    database=database\n",
    ")\n",
    "\n",
    "# Define the SQL query to retrieve transaction data\n",
    "query = \"\"\"\n",
    "SELECT TRANSACTION_TYPE, COUNT(*) AS TRANSACTION_COUNT\n",
    "FROM CDW_SAPP_CREDIT_CARD\n",
    "GROUP BY TRANSACTION_TYPE\n",
    "\"\"\"\n",
    "\n",
    "# Retrieve the data using pandas\n",
    "df = pd.read_sql(query, db)\n",
    "\n",
    "# Plot the data using seaborn\n",
    "sns.set(style=\"whitegrid\")\n",
    "sns.barplot(x=\"TRANSACTION_TYPE\", y=\"TRANSACTION_COUNT\", data=df)\n",
    "plt.title(\"Transaction Type Frequency\")\n",
    "plt.xlabel(\"Transaction Type\")\n",
    "plt.ylabel(\"Frequency\")\n",
    "plt.show()"
   ]
  },
  {
   "attachments": {},
   "cell_type": "markdown",
   "metadata": {},
   "source": [
    "Find and plot which state has a high number of customers."
   ]
  },
  {
   "cell_type": "code",
   "execution_count": 22,
   "metadata": {},
   "outputs": [
    {
     "data": {
      "image/png": "[encoded data removed]",
      "text/plain": [
       "<Figure size 1000x400 with 1 Axes>"
      ]
     },
     "metadata": {},
     "output_type": "display_data"
    }
   ],
   "source": [
    "# # # Create a cursor\n",
    "# cursor = db.cursor()\n",
    "\n",
    "# # Execute the SQL query to count customers by state\n",
    "# cursor.execute(\"SELECT CUST_STATE, COUNT(*) FROM CDW_SAPP_CUSTOMER GROUP BY CUST_STATE ORDER BY COUNT(*) DESC\")\n",
    "\n",
    "# # Fetch the results and store them in a list of tuples\n",
    "# results = cursor.fetchall()\n",
    "\n",
    "# # Extract the state names and customer counts from the results\n",
    "# states = [result[0] for result in results]\n",
    "# counts = [result[1] for result in results]\n",
    "\n",
    "# #Create a bar chart of the results\n",
    "# plt.figure(figsize=(10, 4))\n",
    "# plt.bar(states, counts, width=0.6, color='steelblue', edgecolor='black')\n",
    "\n",
    "# # Center the tick marks and labels\n",
    "# plt.tick_params(axis='x', which='major', pad=15)\n",
    "# #plt.xticks(rotation=45, ha='right')\n",
    "\n",
    "# # Add labels and title\n",
    "# plt.xlabel('State')\n",
    "# plt.ylabel('Number of Customers')\n",
    "# plt.title('Number of Customers by State')\n",
    "\n",
    "# # Add legend\n",
    "#plt.legend(['Number of Customers'])\n",
    "\n",
    "# # Show the plot\n",
    "# plt.show()\n",
    "\n",
    "\n",
    "\n",
    "# query to count the number of unique customers in each state\n",
    "cursor = db.cursor()\n",
    "sql = \"SELECT UPPER(CUST_STATE), COUNT(DISTINCT SSN) AS COUNT FROM CDW_SAPP_CUSTOMER \\\n",
    "        GROUP BY UPPER(CUST_STATE) ORDER BY COUNT DESC\"\n",
    "cursor.execute(sql)\n",
    "result = cursor.fetchall()\n",
    "\n",
    "# states and their counts into separate lists\n",
    "states = [row[0] for row in result]\n",
    "counts = [row[1] for row in result]\n",
    "\n",
    "\n",
    "fig, ax = plt.subplots(figsize=(10,4))\n",
    "plt.bar(states, counts,width=0.6, color='steelblue', edgecolor='black')\n",
    "plt.xlabel('State')\n",
    "plt.ylabel('Number of Unique Customers')\n",
    "plt.title('States with High Number of Customers')\n",
    "plt.legend(['Number of Customers'])\n",
    "plt.show()\n"
   ]
  },
  {
   "attachments": {},
   "cell_type": "markdown",
   "metadata": {},
   "source": [
    "Find and plot the sum of all transactions for each customer, and which customer has the highest transaction amount.\n",
    "hint(use CUST_SSN)."
   ]
  },
  {
   "cell_type": "code",
   "execution_count": null,
   "metadata": {},
   "outputs": [],
   "source": [
    "\n",
    "\n",
    "\n"
   ]
  },
  {
   "attachments": {},
   "cell_type": "markdown",
   "metadata": {},
   "source": []
  },
  {
   "attachments": {},
   "cell_type": "markdown",
   "metadata": {},
   "source": [
    "## Overview of LOAN application Data API\n",
    "Banks deal in all home loans. They have a presence across all urban, semi-urban, and rural areas. Customers first apply for a home loan; after that, a company will validate the customer's eligibility for a loan.\n",
    "Banks want to automate the loan eligibility process (in real-time) based on customer details provided while filling out the online application form. These details are Gender, Marital Status, Education, Number of Dependents, Income, Loan Amount, Credit History, and others. To automate this process, they have the task of identifying the customer segments to those who are eligible for loan amounts so that they can specifically target these customers. Here they have provided a partial dataset.\n"
   ]
  },
  {
   "attachments": {},
   "cell_type": "markdown",
   "metadata": {},
   "source": [
    "API Endpoint: https://raw.githubusercontent.com/platformps/LoanDataset/main/loan_data.json\n",
    "\n",
    "The above URL allows you to access information about loan application information. This dataset has all of the required fields for a loan application. You can access data from a REST API by sending an HTTP request and processing the response.\n"
   ]
  },
  {
   "cell_type": "code",
   "execution_count": 3,
   "metadata": {},
   "outputs": [],
   "source": [
    "# Load data from API endpoint into Pandas dataframe\n",
    "\n",
    "url = 'https://raw.githubusercontent.com/platformps/LoanDataset/main/loan_data.json'\n",
    "response =requests.get(url)\n",
    "#response_data = response.json()\n"
   ]
  },
  {
   "cell_type": "code",
   "execution_count": 4,
   "metadata": {},
   "outputs": [
    {
     "name": "stdout",
     "output_type": "stream",
     "text": [
      "Status code: 200\n"
     ]
    }
   ],
   "source": [
    "print(\"Status code:\", response.status_code)"
   ]
  },
  {
   "cell_type": "code",
   "execution_count": 5,
   "metadata": {},
   "outputs": [],
   "source": [
    "# Read the loan data from the API using Pandas\n",
    "loan_df = pd.read_json(\"https://raw.githubusercontent.com/platformps/LoanDataset/main/loan_data.json\")"
   ]
  },
  {
   "cell_type": "code",
   "execution_count": 14,
   "metadata": {},
   "outputs": [],
   "source": [
    "#loan_df['Credit_History'] = loan_df['Credit_History'].astype(float)\n",
    "\n",
    "loan_df_schema=StructType([\n",
    "StructField(\"Application_ID\", StringType(), True),\n",
    "StructField(\"Gender\", StringType(), True),\n",
    "StructField(\"Married\", StringType(), True),\n",
    "StructField(\"Dependents\", StringType(), True),\n",
    "StructField(\"Education\", StringType(), True),\n",
    "StructField(\"Self_Employed\", StringType(), True),\n",
    "StructField(\"Credit_History\", IntegerType() , True),\n",
    "StructField(\"Property_Area\", StringType(), True),\n",
    "StructField(\"Income\", StringType(), True),\n",
    "StructField(\"Application_Status\", StringType(), True)\n",
    "])\n"
   ]
  },
  {
   "cell_type": "code",
   "execution_count": 15,
   "metadata": {},
   "outputs": [],
   "source": [
    "#createa a new spark session \n",
    "\n",
    "spark=SparkSession.builder.appName(\"convert to spark\").getOrCreate()"
   ]
  },
  {
   "cell_type": "code",
   "execution_count": 21,
   "metadata": {},
   "outputs": [
    {
     "name": "stderr",
     "output_type": "stream",
     "text": [
      "c:\\Users\\Learner_XZHCG222\\Documents\\Per Scholas\\Data Engineering\\repos\\Data Engineering - Capstone Project\\dataEngProject\\lib\\site-packages\\pyspark\\sql\\pandas\\conversion.py:486: FutureWarning: iteritems is deprecated and will be removed in a future version. Use .items instead.\n",
      "  for column, series in pdf.iteritems():\n"
     ]
    }
   ],
   "source": [
    "spark_loan_df=spark.createDataFrame(loan_df,schema=loan_df_schema)"
   ]
  },
  {
   "cell_type": "code",
   "execution_count": 20,
   "metadata": {},
   "outputs": [
    {
     "ename": "Py4JJavaError",
     "evalue": "An error occurred while calling o136.jdbc.\n: org.apache.spark.SparkException: Job aborted due to stage failure: Task 4 in stage 4.0 failed 1 times, most recent failure: Lost task 4.0 in stage 4.0 (TID 36) (host.docker.internal executor driver): org.apache.spark.SparkException: Python worker failed to connect back.\r\n\tat org.apache.spark.api.python.PythonWorkerFactory.createSimpleWorker(PythonWorkerFactory.scala:189)\r\n\tat org.apache.spark.api.python.PythonWorkerFactory.create(PythonWorkerFactory.scala:109)\r\n\tat org.apache.spark.SparkEnv.createPythonWorker(SparkEnv.scala:124)\r\n\tat org.apache.spark.api.python.BasePythonRunner.compute(PythonRunner.scala:164)\r\n\tat org.apache.spark.api.python.PythonRDD.compute(PythonRDD.scala:65)\r\n\tat org.apache.spark.rdd.RDD.computeOrReadCheckpoint(RDD.scala:365)\r\n\tat org.apache.spark.rdd.RDD.iterator(RDD.scala:329)\r\n\tat org.apache.spark.rdd.MapPartitionsRDD.compute(MapPartitionsRDD.scala:52)\r\n\tat org.apache.spark.rdd.RDD.computeOrReadCheckpoint(RDD.scala:365)\r\n\tat org.apache.spark.rdd.RDD.iterator(RDD.scala:329)\r\n\tat org.apache.spark.rdd.MapPartitionsRDD.compute(MapPartitionsRDD.scala:52)\r\n\tat org.apache.spark.rdd.RDD.computeOrReadCheckpoint(RDD.scala:365)\r\n\tat org.apache.spark.rdd.RDD.iterator(RDD.scala:329)\r\n\tat org.apache.spark.rdd.MapPartitionsRDD.compute(MapPartitionsRDD.scala:52)\r\n\tat org.apache.spark.rdd.RDD.computeOrReadCheckpoint(RDD.scala:365)\r\n\tat org.apache.spark.rdd.RDD.iterator(RDD.scala:329)\r\n\tat org.apache.spark.rdd.MapPartitionsRDD.compute(MapPartitionsRDD.scala:52)\r\n\tat org.apache.spark.rdd.RDD.computeOrReadCheckpoint(RDD.scala:365)\r\n\tat org.apache.spark.rdd.RDD.iterator(RDD.scala:329)\r\n\tat org.apache.spark.rdd.MapPartitionsRDD.compute(MapPartitionsRDD.scala:52)\r\n\tat org.apache.spark.rdd.RDD.computeOrReadCheckpoint(RDD.scala:365)\r\n\tat org.apache.spark.rdd.RDD.iterator(RDD.scala:329)\r\n\tat org.apache.spark.sql.execution.SQLExecutionRDD.compute(SQLExecutionRDD.scala:55)\r\n\tat org.apache.spark.rdd.RDD.computeOrReadCheckpoint(RDD.scala:365)\r\n\tat org.apache.spark.rdd.RDD.iterator(RDD.scala:329)\r\n\tat org.apache.spark.rdd.MapPartitionsRDD.compute(MapPartitionsRDD.scala:52)\r\n\tat org.apache.spark.rdd.RDD.computeOrReadCheckpoint(RDD.scala:365)\r\n\tat org.apache.spark.rdd.RDD.iterator(RDD.scala:329)\r\n\tat org.apache.spark.scheduler.ResultTask.runTask(ResultTask.scala:90)\r\n\tat org.apache.spark.scheduler.Task.run(Task.scala:136)\r\n\tat org.apache.spark.executor.Executor$TaskRunner.$anonfun$run$3(Executor.scala:548)\r\n\tat org.apache.spark.util.Utils$.tryWithSafeFinally(Utils.scala:1504)\r\n\tat org.apache.spark.executor.Executor$TaskRunner.run(Executor.scala:551)\r\n\tat java.util.concurrent.ThreadPoolExecutor.runWorker(ThreadPoolExecutor.java:1149)\r\n\tat java.util.concurrent.ThreadPoolExecutor$Worker.run(ThreadPoolExecutor.java:624)\r\n\tat java.lang.Thread.run(Thread.java:750)\r\nCaused by: java.net.SocketTimeoutException: Accept timed out\r\n\tat java.net.DualStackPlainSocketImpl.waitForNewConnection(Native Method)\r\n\tat java.net.DualStackPlainSocketImpl.socketAccept(DualStackPlainSocketImpl.java:131)\r\n\tat java.net.AbstractPlainSocketImpl.accept(AbstractPlainSocketImpl.java:535)\r\n\tat java.net.PlainSocketImpl.accept(PlainSocketImpl.java:189)\r\n\tat java.net.ServerSocket.implAccept(ServerSocket.java:545)\r\n\tat java.net.ServerSocket.accept(ServerSocket.java:513)\r\n\tat org.apache.spark.api.python.PythonWorkerFactory.createSimpleWorker(PythonWorkerFactory.scala:176)\r\n\t... 35 more\r\n\nDriver stacktrace:\r\n\tat org.apache.spark.scheduler.DAGScheduler.failJobAndIndependentStages(DAGScheduler.scala:2672)\r\n\tat org.apache.spark.scheduler.DAGScheduler.$anonfun$abortStage$2(DAGScheduler.scala:2608)\r\n\tat org.apache.spark.scheduler.DAGScheduler.$anonfun$abortStage$2$adapted(DAGScheduler.scala:2607)\r\n\tat scala.collection.mutable.ResizableArray.foreach(ResizableArray.scala:62)\r\n\tat scala.collection.mutable.ResizableArray.foreach$(ResizableArray.scala:55)\r\n\tat scala.collection.mutable.ArrayBuffer.foreach(ArrayBuffer.scala:49)\r\n\tat org.apache.spark.scheduler.DAGScheduler.abortStage(DAGScheduler.scala:2607)\r\n\tat org.apache.spark.scheduler.DAGScheduler.$anonfun$handleTaskSetFailed$1(DAGScheduler.scala:1182)\r\n\tat org.apache.spark.scheduler.DAGScheduler.$anonfun$handleTaskSetFailed$1$adapted(DAGScheduler.scala:1182)\r\n\tat scala.Option.foreach(Option.scala:407)\r\n\tat org.apache.spark.scheduler.DAGScheduler.handleTaskSetFailed(DAGScheduler.scala:1182)\r\n\tat org.apache.spark.scheduler.DAGSchedulerEventProcessLoop.doOnReceive(DAGScheduler.scala:2860)\r\n\tat org.apache.spark.scheduler.DAGSchedulerEventProcessLoop.onReceive(DAGScheduler.scala:2802)\r\n\tat org.apache.spark.scheduler.DAGSchedulerEventProcessLoop.onReceive(DAGScheduler.scala:2791)\r\n\tat org.apache.spark.util.EventLoop$$anon$1.run(EventLoop.scala:49)\r\n\tat org.apache.spark.scheduler.DAGScheduler.runJob(DAGScheduler.scala:952)\r\n\tat org.apache.spark.SparkContext.runJob(SparkContext.scala:2228)\r\n\tat org.apache.spark.SparkContext.runJob(SparkContext.scala:2249)\r\n\tat org.apache.spark.SparkContext.runJob(SparkContext.scala:2268)\r\n\tat org.apache.spark.SparkContext.runJob(SparkContext.scala:2293)\r\n\tat org.apache.spark.rdd.RDD.$anonfun$foreachPartition$1(RDD.scala:1011)\r\n\tat org.apache.spark.rdd.RDDOperationScope$.withScope(RDDOperationScope.scala:151)\r\n\tat org.apache.spark.rdd.RDDOperationScope$.withScope(RDDOperationScope.scala:112)\r\n\tat org.apache.spark.rdd.RDD.withScope(RDD.scala:406)\r\n\tat org.apache.spark.rdd.RDD.foreachPartition(RDD.scala:1009)\r\n\tat org.apache.spark.sql.execution.datasources.jdbc.JdbcUtils$.saveTable(JdbcUtils.scala:867)\r\n\tat org.apache.spark.sql.execution.datasources.jdbc.JdbcRelationProvider.createRelation(JdbcRelationProvider.scala:65)\r\n\tat org.apache.spark.sql.execution.datasources.SaveIntoDataSourceCommand.run(SaveIntoDataSourceCommand.scala:47)\r\n\tat org.apache.spark.sql.execution.command.ExecutedCommandExec.sideEffectResult$lzycompute(commands.scala:75)\r\n\tat org.apache.spark.sql.execution.command.ExecutedCommandExec.sideEffectResult(commands.scala:73)\r\n\tat org.apache.spark.sql.execution.command.ExecutedCommandExec.executeCollect(commands.scala:84)\r\n\tat org.apache.spark.sql.execution.QueryExecution$$anonfun$eagerlyExecuteCommands$1.$anonfun$applyOrElse$1(QueryExecution.scala:98)\r\n\tat org.apache.spark.sql.execution.SQLExecution$.$anonfun$withNewExecutionId$6(SQLExecution.scala:109)\r\n\tat org.apache.spark.sql.execution.SQLExecution$.withSQLConfPropagated(SQLExecution.scala:169)\r\n\tat org.apache.spark.sql.execution.SQLExecution$.$anonfun$withNewExecutionId$1(SQLExecution.scala:95)\r\n\tat org.apache.spark.sql.SparkSession.withActive(SparkSession.scala:779)\r\n\tat org.apache.spark.sql.execution.SQLExecution$.withNewExecutionId(SQLExecution.scala:64)\r\n\tat org.apache.spark.sql.execution.QueryExecution$$anonfun$eagerlyExecuteCommands$1.applyOrElse(QueryExecution.scala:98)\r\n\tat org.apache.spark.sql.execution.QueryExecution$$anonfun$eagerlyExecuteCommands$1.applyOrElse(QueryExecution.scala:94)\r\n\tat org.apache.spark.sql.catalyst.trees.TreeNode.$anonfun$transformDownWithPruning$1(TreeNode.scala:584)\r\n\tat org.apache.spark.sql.catalyst.trees.CurrentOrigin$.withOrigin(TreeNode.scala:176)\r\n\tat org.apache.spark.sql.catalyst.trees.TreeNode.transformDownWithPruning(TreeNode.scala:584)\r\n\tat org.apache.spark.sql.catalyst.plans.logical.LogicalPlan.org$apache$spark$sql$catalyst$plans$logical$AnalysisHelper$$super$transformDownWithPruning(LogicalPlan.scala:30)\r\n\tat org.apache.spark.sql.catalyst.plans.logical.AnalysisHelper.transformDownWithPruning(AnalysisHelper.scala:267)\r\n\tat org.apache.spark.sql.catalyst.plans.logical.AnalysisHelper.transformDownWithPruning$(AnalysisHelper.scala:263)\r\n\tat org.apache.spark.sql.catalyst.plans.logical.LogicalPlan.transformDownWithPruning(LogicalPlan.scala:30)\r\n\tat org.apache.spark.sql.catalyst.plans.logical.LogicalPlan.transformDownWithPruning(LogicalPlan.scala:30)\r\n\tat org.apache.spark.sql.catalyst.trees.TreeNode.transformDown(TreeNode.scala:560)\r\n\tat org.apache.spark.sql.execution.QueryExecution.eagerlyExecuteCommands(QueryExecution.scala:94)\r\n\tat org.apache.spark.sql.execution.QueryExecution.commandExecuted$lzycompute(QueryExecution.scala:81)\r\n\tat org.apache.spark.sql.execution.QueryExecution.commandExecuted(QueryExecution.scala:79)\r\n\tat org.apache.spark.sql.execution.QueryExecution.assertCommandExecuted(QueryExecution.scala:116)\r\n\tat org.apache.spark.sql.DataFrameWriter.runCommand(DataFrameWriter.scala:860)\r\n\tat org.apache.spark.sql.DataFrameWriter.saveToV1Source(DataFrameWriter.scala:390)\r\n\tat org.apache.spark.sql.DataFrameWriter.saveInternal(DataFrameWriter.scala:363)\r\n\tat org.apache.spark.sql.DataFrameWriter.save(DataFrameWriter.scala:247)\r\n\tat org.apache.spark.sql.DataFrameWriter.jdbc(DataFrameWriter.scala:757)\r\n\tat sun.reflect.NativeMethodAccessorImpl.invoke0(Native Method)\r\n\tat sun.reflect.NativeMethodAccessorImpl.invoke(NativeMethodAccessorImpl.java:62)\r\n\tat sun.reflect.DelegatingMethodAccessorImpl.invoke(DelegatingMethodAccessorImpl.java:43)\r\n\tat java.lang.reflect.Method.invoke(Method.java:498)\r\n\tat py4j.reflection.MethodInvoker.invoke(MethodInvoker.java:244)\r\n\tat py4j.reflection.ReflectionEngine.invoke(ReflectionEngine.java:357)\r\n\tat py4j.Gateway.invoke(Gateway.java:282)\r\n\tat py4j.commands.AbstractCommand.invokeMethod(AbstractCommand.java:132)\r\n\tat py4j.commands.CallCommand.execute(CallCommand.java:79)\r\n\tat py4j.ClientServerConnection.waitForCommands(ClientServerConnection.java:182)\r\n\tat py4j.ClientServerConnection.run(ClientServerConnection.java:106)\r\n\tat java.lang.Thread.run(Thread.java:750)\r\nCaused by: org.apache.spark.SparkException: Python worker failed to connect back.\r\n\tat org.apache.spark.api.python.PythonWorkerFactory.createSimpleWorker(PythonWorkerFactory.scala:189)\r\n\tat org.apache.spark.api.python.PythonWorkerFactory.create(PythonWorkerFactory.scala:109)\r\n\tat org.apache.spark.SparkEnv.createPythonWorker(SparkEnv.scala:124)\r\n\tat org.apache.spark.api.python.BasePythonRunner.compute(PythonRunner.scala:164)\r\n\tat org.apache.spark.api.python.PythonRDD.compute(PythonRDD.scala:65)\r\n\tat org.apache.spark.rdd.RDD.computeOrReadCheckpoint(RDD.scala:365)\r\n\tat org.apache.spark.rdd.RDD.iterator(RDD.scala:329)\r\n\tat org.apache.spark.rdd.MapPartitionsRDD.compute(MapPartitionsRDD.scala:52)\r\n\tat org.apache.spark.rdd.RDD.computeOrReadCheckpoint(RDD.scala:365)\r\n\tat org.apache.spark.rdd.RDD.iterator(RDD.scala:329)\r\n\tat org.apache.spark.rdd.MapPartitionsRDD.compute(MapPartitionsRDD.scala:52)\r\n\tat org.apache.spark.rdd.RDD.computeOrReadCheckpoint(RDD.scala:365)\r\n\tat org.apache.spark.rdd.RDD.iterator(RDD.scala:329)\r\n\tat org.apache.spark.rdd.MapPartitionsRDD.compute(MapPartitionsRDD.scala:52)\r\n\tat org.apache.spark.rdd.RDD.computeOrReadCheckpoint(RDD.scala:365)\r\n\tat org.apache.spark.rdd.RDD.iterator(RDD.scala:329)\r\n\tat org.apache.spark.rdd.MapPartitionsRDD.compute(MapPartitionsRDD.scala:52)\r\n\tat org.apache.spark.rdd.RDD.computeOrReadCheckpoint(RDD.scala:365)\r\n\tat org.apache.spark.rdd.RDD.iterator(RDD.scala:329)\r\n\tat org.apache.spark.rdd.MapPartitionsRDD.compute(MapPartitionsRDD.scala:52)\r\n\tat org.apache.spark.rdd.RDD.computeOrReadCheckpoint(RDD.scala:365)\r\n\tat org.apache.spark.rdd.RDD.iterator(RDD.scala:329)\r\n\tat org.apache.spark.sql.execution.SQLExecutionRDD.compute(SQLExecutionRDD.scala:55)\r\n\tat org.apache.spark.rdd.RDD.computeOrReadCheckpoint(RDD.scala:365)\r\n\tat org.apache.spark.rdd.RDD.iterator(RDD.scala:329)\r\n\tat org.apache.spark.rdd.MapPartitionsRDD.compute(MapPartitionsRDD.scala:52)\r\n\tat org.apache.spark.rdd.RDD.computeOrReadCheckpoint(RDD.scala:365)\r\n\tat org.apache.spark.rdd.RDD.iterator(RDD.scala:329)\r\n\tat org.apache.spark.scheduler.ResultTask.runTask(ResultTask.scala:90)\r\n\tat org.apache.spark.scheduler.Task.run(Task.scala:136)\r\n\tat org.apache.spark.executor.Executor$TaskRunner.$anonfun$run$3(Executor.scala:548)\r\n\tat org.apache.spark.util.Utils$.tryWithSafeFinally(Utils.scala:1504)\r\n\tat org.apache.spark.executor.Executor$TaskRunner.run(Executor.scala:551)\r\n\tat java.util.concurrent.ThreadPoolExecutor.runWorker(ThreadPoolExecutor.java:1149)\r\n\tat java.util.concurrent.ThreadPoolExecutor$Worker.run(ThreadPoolExecutor.java:624)\r\n\t... 1 more\r\nCaused by: java.net.SocketTimeoutException: Accept timed out\r\n\tat java.net.DualStackPlainSocketImpl.waitForNewConnection(Native Method)\r\n\tat java.net.DualStackPlainSocketImpl.socketAccept(DualStackPlainSocketImpl.java:131)\r\n\tat java.net.AbstractPlainSocketImpl.accept(AbstractPlainSocketImpl.java:535)\r\n\tat java.net.PlainSocketImpl.accept(PlainSocketImpl.java:189)\r\n\tat java.net.ServerSocket.implAccept(ServerSocket.java:545)\r\n\tat java.net.ServerSocket.accept(ServerSocket.java:513)\r\n\tat org.apache.spark.api.python.PythonWorkerFactory.createSimpleWorker(PythonWorkerFactory.scala:176)\r\n\t... 35 more\r\n",
     "output_type": "error",
     "traceback": [
      "\u001b[1;31m---------------------------------------------------------------------------\u001b[0m",
      "\u001b[1;31mPy4JJavaError\u001b[0m                             Traceback (most recent call last)",
      "Cell \u001b[1;32mIn[20], line 11\u001b[0m\n\u001b[0;32m      4\u001b[0m properties \u001b[39m=\u001b[39m {\n\u001b[0;32m      5\u001b[0m     \u001b[39m\"\u001b[39m\u001b[39muser\u001b[39m\u001b[39m\"\u001b[39m: user,\n\u001b[0;32m      6\u001b[0m     \u001b[39m\"\u001b[39m\u001b[39mpassword\u001b[39m\u001b[39m\"\u001b[39m: password,\n\u001b[0;32m      7\u001b[0m     \u001b[39m\"\u001b[39m\u001b[39mdriver\u001b[39m\u001b[39m\"\u001b[39m: \u001b[39m\"\u001b[39m\u001b[39mcom.mysql.cj.jdbc.Driver\u001b[39m\u001b[39m\"\u001b[39m\n\u001b[0;32m      8\u001b[0m }\n\u001b[0;32m     10\u001b[0m \u001b[39m# Write the loan data to the MySQL table\u001b[39;00m\n\u001b[1;32m---> 11\u001b[0m spark_loan_df\u001b[39m.\u001b[39;49mwrite\u001b[39m.\u001b[39;49mjdbc(url\u001b[39m=\u001b[39;49murl, table\u001b[39m=\u001b[39;49mtable, mode\u001b[39m=\u001b[39;49m\u001b[39m\"\u001b[39;49m\u001b[39moverwrite\u001b[39;49m\u001b[39m\"\u001b[39;49m, properties\u001b[39m=\u001b[39;49mproperties)\n",
      "File \u001b[1;32mc:\\Users\\Learner_XZHCG222\\Documents\\Per Scholas\\Data Engineering\\repos\\Data Engineering - Capstone Project\\dataEngProject\\lib\\site-packages\\pyspark\\sql\\readwriter.py:1340\u001b[0m, in \u001b[0;36mDataFrameWriter.jdbc\u001b[1;34m(self, url, table, mode, properties)\u001b[0m\n\u001b[0;32m   1338\u001b[0m \u001b[39mfor\u001b[39;00m k \u001b[39min\u001b[39;00m properties:\n\u001b[0;32m   1339\u001b[0m     jprop\u001b[39m.\u001b[39msetProperty(k, properties[k])\n\u001b[1;32m-> 1340\u001b[0m \u001b[39mself\u001b[39;49m\u001b[39m.\u001b[39;49mmode(mode)\u001b[39m.\u001b[39;49m_jwrite\u001b[39m.\u001b[39;49mjdbc(url, table, jprop)\n",
      "File \u001b[1;32mc:\\Users\\Learner_XZHCG222\\Documents\\Per Scholas\\Data Engineering\\repos\\Data Engineering - Capstone Project\\dataEngProject\\lib\\site-packages\\py4j\\java_gateway.py:1321\u001b[0m, in \u001b[0;36mJavaMember.__call__\u001b[1;34m(self, *args)\u001b[0m\n\u001b[0;32m   1315\u001b[0m command \u001b[39m=\u001b[39m proto\u001b[39m.\u001b[39mCALL_COMMAND_NAME \u001b[39m+\u001b[39m\\\n\u001b[0;32m   1316\u001b[0m     \u001b[39mself\u001b[39m\u001b[39m.\u001b[39mcommand_header \u001b[39m+\u001b[39m\\\n\u001b[0;32m   1317\u001b[0m     args_command \u001b[39m+\u001b[39m\\\n\u001b[0;32m   1318\u001b[0m     proto\u001b[39m.\u001b[39mEND_COMMAND_PART\n\u001b[0;32m   1320\u001b[0m answer \u001b[39m=\u001b[39m \u001b[39mself\u001b[39m\u001b[39m.\u001b[39mgateway_client\u001b[39m.\u001b[39msend_command(command)\n\u001b[1;32m-> 1321\u001b[0m return_value \u001b[39m=\u001b[39m get_return_value(\n\u001b[0;32m   1322\u001b[0m     answer, \u001b[39mself\u001b[39;49m\u001b[39m.\u001b[39;49mgateway_client, \u001b[39mself\u001b[39;49m\u001b[39m.\u001b[39;49mtarget_id, \u001b[39mself\u001b[39;49m\u001b[39m.\u001b[39;49mname)\n\u001b[0;32m   1324\u001b[0m \u001b[39mfor\u001b[39;00m temp_arg \u001b[39min\u001b[39;00m temp_args:\n\u001b[0;32m   1325\u001b[0m     temp_arg\u001b[39m.\u001b[39m_detach()\n",
      "File \u001b[1;32mc:\\Users\\Learner_XZHCG222\\Documents\\Per Scholas\\Data Engineering\\repos\\Data Engineering - Capstone Project\\dataEngProject\\lib\\site-packages\\pyspark\\sql\\utils.py:190\u001b[0m, in \u001b[0;36mcapture_sql_exception.<locals>.deco\u001b[1;34m(*a, **kw)\u001b[0m\n\u001b[0;32m    188\u001b[0m \u001b[39mdef\u001b[39;00m \u001b[39mdeco\u001b[39m(\u001b[39m*\u001b[39ma: Any, \u001b[39m*\u001b[39m\u001b[39m*\u001b[39mkw: Any) \u001b[39m-\u001b[39m\u001b[39m>\u001b[39m Any:\n\u001b[0;32m    189\u001b[0m     \u001b[39mtry\u001b[39;00m:\n\u001b[1;32m--> 190\u001b[0m         \u001b[39mreturn\u001b[39;00m f(\u001b[39m*\u001b[39ma, \u001b[39m*\u001b[39m\u001b[39m*\u001b[39mkw)\n\u001b[0;32m    191\u001b[0m     \u001b[39mexcept\u001b[39;00m Py4JJavaError \u001b[39mas\u001b[39;00m e:\n\u001b[0;32m    192\u001b[0m         converted \u001b[39m=\u001b[39m convert_exception(e\u001b[39m.\u001b[39mjava_exception)\n",
      "File \u001b[1;32mc:\\Users\\Learner_XZHCG222\\Documents\\Per Scholas\\Data Engineering\\repos\\Data Engineering - Capstone Project\\dataEngProject\\lib\\site-packages\\py4j\\protocol.py:326\u001b[0m, in \u001b[0;36mget_return_value\u001b[1;34m(answer, gateway_client, target_id, name)\u001b[0m\n\u001b[0;32m    324\u001b[0m value \u001b[39m=\u001b[39m OUTPUT_CONVERTER[\u001b[39mtype\u001b[39m](answer[\u001b[39m2\u001b[39m:], gateway_client)\n\u001b[0;32m    325\u001b[0m \u001b[39mif\u001b[39;00m answer[\u001b[39m1\u001b[39m] \u001b[39m==\u001b[39m REFERENCE_TYPE:\n\u001b[1;32m--> 326\u001b[0m     \u001b[39mraise\u001b[39;00m Py4JJavaError(\n\u001b[0;32m    327\u001b[0m         \u001b[39m\"\u001b[39m\u001b[39mAn error occurred while calling \u001b[39m\u001b[39m{0}\u001b[39;00m\u001b[39m{1}\u001b[39;00m\u001b[39m{2}\u001b[39;00m\u001b[39m.\u001b[39m\u001b[39m\\n\u001b[39;00m\u001b[39m\"\u001b[39m\u001b[39m.\u001b[39m\n\u001b[0;32m    328\u001b[0m         \u001b[39mformat\u001b[39m(target_id, \u001b[39m\"\u001b[39m\u001b[39m.\u001b[39m\u001b[39m\"\u001b[39m, name), value)\n\u001b[0;32m    329\u001b[0m \u001b[39melse\u001b[39;00m:\n\u001b[0;32m    330\u001b[0m     \u001b[39mraise\u001b[39;00m Py4JError(\n\u001b[0;32m    331\u001b[0m         \u001b[39m\"\u001b[39m\u001b[39mAn error occurred while calling \u001b[39m\u001b[39m{0}\u001b[39;00m\u001b[39m{1}\u001b[39;00m\u001b[39m{2}\u001b[39;00m\u001b[39m. Trace:\u001b[39m\u001b[39m\\n\u001b[39;00m\u001b[39m{3}\u001b[39;00m\u001b[39m\\n\u001b[39;00m\u001b[39m\"\u001b[39m\u001b[39m.\u001b[39m\n\u001b[0;32m    332\u001b[0m         \u001b[39mformat\u001b[39m(target_id, \u001b[39m\"\u001b[39m\u001b[39m.\u001b[39m\u001b[39m\"\u001b[39m, name, value))\n",
      "\u001b[1;31mPy4JJavaError\u001b[0m: An error occurred while calling o136.jdbc.\n: org.apache.spark.SparkException: Job aborted due to stage failure: Task 4 in stage 4.0 failed 1 times, most recent failure: Lost task 4.0 in stage 4.0 (TID 36) (host.docker.internal executor driver): org.apache.spark.SparkException: Python worker failed to connect back.\r\n\tat org.apache.spark.api.python.PythonWorkerFactory.createSimpleWorker(PythonWorkerFactory.scala:189)\r\n\tat org.apache.spark.api.python.PythonWorkerFactory.create(PythonWorkerFactory.scala:109)\r\n\tat org.apache.spark.SparkEnv.createPythonWorker(SparkEnv.scala:124)\r\n\tat org.apache.spark.api.python.BasePythonRunner.compute(PythonRunner.scala:164)\r\n\tat org.apache.spark.api.python.PythonRDD.compute(PythonRDD.scala:65)\r\n\tat org.apache.spark.rdd.RDD.computeOrReadCheckpoint(RDD.scala:365)\r\n\tat org.apache.spark.rdd.RDD.iterator(RDD.scala:329)\r\n\tat org.apache.spark.rdd.MapPartitionsRDD.compute(MapPartitionsRDD.scala:52)\r\n\tat org.apache.spark.rdd.RDD.computeOrReadCheckpoint(RDD.scala:365)\r\n\tat org.apache.spark.rdd.RDD.iterator(RDD.scala:329)\r\n\tat org.apache.spark.rdd.MapPartitionsRDD.compute(MapPartitionsRDD.scala:52)\r\n\tat org.apache.spark.rdd.RDD.computeOrReadCheckpoint(RDD.scala:365)\r\n\tat org.apache.spark.rdd.RDD.iterator(RDD.scala:329)\r\n\tat org.apache.spark.rdd.MapPartitionsRDD.compute(MapPartitionsRDD.scala:52)\r\n\tat org.apache.spark.rdd.RDD.computeOrReadCheckpoint(RDD.scala:365)\r\n\tat org.apache.spark.rdd.RDD.iterator(RDD.scala:329)\r\n\tat org.apache.spark.rdd.MapPartitionsRDD.compute(MapPartitionsRDD.scala:52)\r\n\tat org.apache.spark.rdd.RDD.computeOrReadCheckpoint(RDD.scala:365)\r\n\tat org.apache.spark.rdd.RDD.iterator(RDD.scala:329)\r\n\tat org.apache.spark.rdd.MapPartitionsRDD.compute(MapPartitionsRDD.scala:52)\r\n\tat org.apache.spark.rdd.RDD.computeOrReadCheckpoint(RDD.scala:365)\r\n\tat org.apache.spark.rdd.RDD.iterator(RDD.scala:329)\r\n\tat org.apache.spark.sql.execution.SQLExecutionRDD.compute(SQLExecutionRDD.scala:55)\r\n\tat org.apache.spark.rdd.RDD.computeOrReadCheckpoint(RDD.scala:365)\r\n\tat org.apache.spark.rdd.RDD.iterator(RDD.scala:329)\r\n\tat org.apache.spark.rdd.MapPartitionsRDD.compute(MapPartitionsRDD.scala:52)\r\n\tat org.apache.spark.rdd.RDD.computeOrReadCheckpoint(RDD.scala:365)\r\n\tat org.apache.spark.rdd.RDD.iterator(RDD.scala:329)\r\n\tat org.apache.spark.scheduler.ResultTask.runTask(ResultTask.scala:90)\r\n\tat org.apache.spark.scheduler.Task.run(Task.scala:136)\r\n\tat org.apache.spark.executor.Executor$TaskRunner.$anonfun$run$3(Executor.scala:548)\r\n\tat org.apache.spark.util.Utils$.tryWithSafeFinally(Utils.scala:1504)\r\n\tat org.apache.spark.executor.Executor$TaskRunner.run(Executor.scala:551)\r\n\tat java.util.concurrent.ThreadPoolExecutor.runWorker(ThreadPoolExecutor.java:1149)\r\n\tat java.util.concurrent.ThreadPoolExecutor$Worker.run(ThreadPoolExecutor.java:624)\r\n\tat java.lang.Thread.run(Thread.java:750)\r\nCaused by: java.net.SocketTimeoutException: Accept timed out\r\n\tat java.net.DualStackPlainSocketImpl.waitForNewConnection(Native Method)\r\n\tat java.net.DualStackPlainSocketImpl.socketAccept(DualStackPlainSocketImpl.java:131)\r\n\tat java.net.AbstractPlainSocketImpl.accept(AbstractPlainSocketImpl.java:535)\r\n\tat java.net.PlainSocketImpl.accept(PlainSocketImpl.java:189)\r\n\tat java.net.ServerSocket.implAccept(ServerSocket.java:545)\r\n\tat java.net.ServerSocket.accept(ServerSocket.java:513)\r\n\tat org.apache.spark.api.python.PythonWorkerFactory.createSimpleWorker(PythonWorkerFactory.scala:176)\r\n\t... 35 more\r\n\nDriver stacktrace:\r\n\tat org.apache.spark.scheduler.DAGScheduler.failJobAndIndependentStages(DAGScheduler.scala:2672)\r\n\tat org.apache.spark.scheduler.DAGScheduler.$anonfun$abortStage$2(DAGScheduler.scala:2608)\r\n\tat org.apache.spark.scheduler.DAGScheduler.$anonfun$abortStage$2$adapted(DAGScheduler.scala:2607)\r\n\tat scala.collection.mutable.ResizableArray.foreach(ResizableArray.scala:62)\r\n\tat scala.collection.mutable.ResizableArray.foreach$(ResizableArray.scala:55)\r\n\tat scala.collection.mutable.ArrayBuffer.foreach(ArrayBuffer.scala:49)\r\n\tat org.apache.spark.scheduler.DAGScheduler.abortStage(DAGScheduler.scala:2607)\r\n\tat org.apache.spark.scheduler.DAGScheduler.$anonfun$handleTaskSetFailed$1(DAGScheduler.scala:1182)\r\n\tat org.apache.spark.scheduler.DAGScheduler.$anonfun$handleTaskSetFailed$1$adapted(DAGScheduler.scala:1182)\r\n\tat scala.Option.foreach(Option.scala:407)\r\n\tat org.apache.spark.scheduler.DAGScheduler.handleTaskSetFailed(DAGScheduler.scala:1182)\r\n\tat org.apache.spark.scheduler.DAGSchedulerEventProcessLoop.doOnReceive(DAGScheduler.scala:2860)\r\n\tat org.apache.spark.scheduler.DAGSchedulerEventProcessLoop.onReceive(DAGScheduler.scala:2802)\r\n\tat org.apache.spark.scheduler.DAGSchedulerEventProcessLoop.onReceive(DAGScheduler.scala:2791)\r\n\tat org.apache.spark.util.EventLoop$$anon$1.run(EventLoop.scala:49)\r\n\tat org.apache.spark.scheduler.DAGScheduler.runJob(DAGScheduler.scala:952)\r\n\tat org.apache.spark.SparkContext.runJob(SparkContext.scala:2228)\r\n\tat org.apache.spark.SparkContext.runJob(SparkContext.scala:2249)\r\n\tat org.apache.spark.SparkContext.runJob(SparkContext.scala:2268)\r\n\tat org.apache.spark.SparkContext.runJob(SparkContext.scala:2293)\r\n\tat org.apache.spark.rdd.RDD.$anonfun$foreachPartition$1(RDD.scala:1011)\r\n\tat org.apache.spark.rdd.RDDOperationScope$.withScope(RDDOperationScope.scala:151)\r\n\tat org.apache.spark.rdd.RDDOperationScope$.withScope(RDDOperationScope.scala:112)\r\n\tat org.apache.spark.rdd.RDD.withScope(RDD.scala:406)\r\n\tat org.apache.spark.rdd.RDD.foreachPartition(RDD.scala:1009)\r\n\tat org.apache.spark.sql.execution.datasources.jdbc.JdbcUtils$.saveTable(JdbcUtils.scala:867)\r\n\tat org.apache.spark.sql.execution.datasources.jdbc.JdbcRelationProvider.createRelation(JdbcRelationProvider.scala:65)\r\n\tat org.apache.spark.sql.execution.datasources.SaveIntoDataSourceCommand.run(SaveIntoDataSourceCommand.scala:47)\r\n\tat org.apache.spark.sql.execution.command.ExecutedCommandExec.sideEffectResult$lzycompute(commands.scala:75)\r\n\tat org.apache.spark.sql.execution.command.ExecutedCommandExec.sideEffectResult(commands.scala:73)\r\n\tat org.apache.spark.sql.execution.command.ExecutedCommandExec.executeCollect(commands.scala:84)\r\n\tat org.apache.spark.sql.execution.QueryExecution$$anonfun$eagerlyExecuteCommands$1.$anonfun$applyOrElse$1(QueryExecution.scala:98)\r\n\tat org.apache.spark.sql.execution.SQLExecution$.$anonfun$withNewExecutionId$6(SQLExecution.scala:109)\r\n\tat org.apache.spark.sql.execution.SQLExecution$.withSQLConfPropagated(SQLExecution.scala:169)\r\n\tat org.apache.spark.sql.execution.SQLExecution$.$anonfun$withNewExecutionId$1(SQLExecution.scala:95)\r\n\tat org.apache.spark.sql.SparkSession.withActive(SparkSession.scala:779)\r\n\tat org.apache.spark.sql.execution.SQLExecution$.withNewExecutionId(SQLExecution.scala:64)\r\n\tat org.apache.spark.sql.execution.QueryExecution$$anonfun$eagerlyExecuteCommands$1.applyOrElse(QueryExecution.scala:98)\r\n\tat org.apache.spark.sql.execution.QueryExecution$$anonfun$eagerlyExecuteCommands$1.applyOrElse(QueryExecution.scala:94)\r\n\tat org.apache.spark.sql.catalyst.trees.TreeNode.$anonfun$transformDownWithPruning$1(TreeNode.scala:584)\r\n\tat org.apache.spark.sql.catalyst.trees.CurrentOrigin$.withOrigin(TreeNode.scala:176)\r\n\tat org.apache.spark.sql.catalyst.trees.TreeNode.transformDownWithPruning(TreeNode.scala:584)\r\n\tat org.apache.spark.sql.catalyst.plans.logical.LogicalPlan.org$apache$spark$sql$catalyst$plans$logical$AnalysisHelper$$super$transformDownWithPruning(LogicalPlan.scala:30)\r\n\tat org.apache.spark.sql.catalyst.plans.logical.AnalysisHelper.transformDownWithPruning(AnalysisHelper.scala:267)\r\n\tat org.apache.spark.sql.catalyst.plans.logical.AnalysisHelper.transformDownWithPruning$(AnalysisHelper.scala:263)\r\n\tat org.apache.spark.sql.catalyst.plans.logical.LogicalPlan.transformDownWithPruning(LogicalPlan.scala:30)\r\n\tat org.apache.spark.sql.catalyst.plans.logical.LogicalPlan.transformDownWithPruning(LogicalPlan.scala:30)\r\n\tat org.apache.spark.sql.catalyst.trees.TreeNode.transformDown(TreeNode.scala:560)\r\n\tat org.apache.spark.sql.execution.QueryExecution.eagerlyExecuteCommands(QueryExecution.scala:94)\r\n\tat org.apache.spark.sql.execution.QueryExecution.commandExecuted$lzycompute(QueryExecution.scala:81)\r\n\tat org.apache.spark.sql.execution.QueryExecution.commandExecuted(QueryExecution.scala:79)\r\n\tat org.apache.spark.sql.execution.QueryExecution.assertCommandExecuted(QueryExecution.scala:116)\r\n\tat org.apache.spark.sql.DataFrameWriter.runCommand(DataFrameWriter.scala:860)\r\n\tat org.apache.spark.sql.DataFrameWriter.saveToV1Source(DataFrameWriter.scala:390)\r\n\tat org.apache.spark.sql.DataFrameWriter.saveInternal(DataFrameWriter.scala:363)\r\n\tat org.apache.spark.sql.DataFrameWriter.save(DataFrameWriter.scala:247)\r\n\tat org.apache.spark.sql.DataFrameWriter.jdbc(DataFrameWriter.scala:757)\r\n\tat sun.reflect.NativeMethodAccessorImpl.invoke0(Native Method)\r\n\tat sun.reflect.NativeMethodAccessorImpl.invoke(NativeMethodAccessorImpl.java:62)\r\n\tat sun.reflect.DelegatingMethodAccessorImpl.invoke(DelegatingMethodAccessorImpl.java:43)\r\n\tat java.lang.reflect.Method.invoke(Method.java:498)\r\n\tat py4j.reflection.MethodInvoker.invoke(MethodInvoker.java:244)\r\n\tat py4j.reflection.ReflectionEngine.invoke(ReflectionEngine.java:357)\r\n\tat py4j.Gateway.invoke(Gateway.java:282)\r\n\tat py4j.commands.AbstractCommand.invokeMethod(AbstractCommand.java:132)\r\n\tat py4j.commands.CallCommand.execute(CallCommand.java:79)\r\n\tat py4j.ClientServerConnection.waitForCommands(ClientServerConnection.java:182)\r\n\tat py4j.ClientServerConnection.run(ClientServerConnection.java:106)\r\n\tat java.lang.Thread.run(Thread.java:750)\r\nCaused by: org.apache.spark.SparkException: Python worker failed to connect back.\r\n\tat org.apache.spark.api.python.PythonWorkerFactory.createSimpleWorker(PythonWorkerFactory.scala:189)\r\n\tat org.apache.spark.api.python.PythonWorkerFactory.create(PythonWorkerFactory.scala:109)\r\n\tat org.apache.spark.SparkEnv.createPythonWorker(SparkEnv.scala:124)\r\n\tat org.apache.spark.api.python.BasePythonRunner.compute(PythonRunner.scala:164)\r\n\tat org.apache.spark.api.python.PythonRDD.compute(PythonRDD.scala:65)\r\n\tat org.apache.spark.rdd.RDD.computeOrReadCheckpoint(RDD.scala:365)\r\n\tat org.apache.spark.rdd.RDD.iterator(RDD.scala:329)\r\n\tat org.apache.spark.rdd.MapPartitionsRDD.compute(MapPartitionsRDD.scala:52)\r\n\tat org.apache.spark.rdd.RDD.computeOrReadCheckpoint(RDD.scala:365)\r\n\tat org.apache.spark.rdd.RDD.iterator(RDD.scala:329)\r\n\tat org.apache.spark.rdd.MapPartitionsRDD.compute(MapPartitionsRDD.scala:52)\r\n\tat org.apache.spark.rdd.RDD.computeOrReadCheckpoint(RDD.scala:365)\r\n\tat org.apache.spark.rdd.RDD.iterator(RDD.scala:329)\r\n\tat org.apache.spark.rdd.MapPartitionsRDD.compute(MapPartitionsRDD.scala:52)\r\n\tat org.apache.spark.rdd.RDD.computeOrReadCheckpoint(RDD.scala:365)\r\n\tat org.apache.spark.rdd.RDD.iterator(RDD.scala:329)\r\n\tat org.apache.spark.rdd.MapPartitionsRDD.compute(MapPartitionsRDD.scala:52)\r\n\tat org.apache.spark.rdd.RDD.computeOrReadCheckpoint(RDD.scala:365)\r\n\tat org.apache.spark.rdd.RDD.iterator(RDD.scala:329)\r\n\tat org.apache.spark.rdd.MapPartitionsRDD.compute(MapPartitionsRDD.scala:52)\r\n\tat org.apache.spark.rdd.RDD.computeOrReadCheckpoint(RDD.scala:365)\r\n\tat org.apache.spark.rdd.RDD.iterator(RDD.scala:329)\r\n\tat org.apache.spark.sql.execution.SQLExecutionRDD.compute(SQLExecutionRDD.scala:55)\r\n\tat org.apache.spark.rdd.RDD.computeOrReadCheckpoint(RDD.scala:365)\r\n\tat org.apache.spark.rdd.RDD.iterator(RDD.scala:329)\r\n\tat org.apache.spark.rdd.MapPartitionsRDD.compute(MapPartitionsRDD.scala:52)\r\n\tat org.apache.spark.rdd.RDD.computeOrReadCheckpoint(RDD.scala:365)\r\n\tat org.apache.spark.rdd.RDD.iterator(RDD.scala:329)\r\n\tat org.apache.spark.scheduler.ResultTask.runTask(ResultTask.scala:90)\r\n\tat org.apache.spark.scheduler.Task.run(Task.scala:136)\r\n\tat org.apache.spark.executor.Executor$TaskRunner.$anonfun$run$3(Executor.scala:548)\r\n\tat org.apache.spark.util.Utils$.tryWithSafeFinally(Utils.scala:1504)\r\n\tat org.apache.spark.executor.Executor$TaskRunner.run(Executor.scala:551)\r\n\tat java.util.concurrent.ThreadPoolExecutor.runWorker(ThreadPoolExecutor.java:1149)\r\n\tat java.util.concurrent.ThreadPoolExecutor$Worker.run(ThreadPoolExecutor.java:624)\r\n\t... 1 more\r\nCaused by: java.net.SocketTimeoutException: Accept timed out\r\n\tat java.net.DualStackPlainSocketImpl.waitForNewConnection(Native Method)\r\n\tat java.net.DualStackPlainSocketImpl.socketAccept(DualStackPlainSocketImpl.java:131)\r\n\tat java.net.AbstractPlainSocketImpl.accept(AbstractPlainSocketImpl.java:535)\r\n\tat java.net.PlainSocketImpl.accept(PlainSocketImpl.java:189)\r\n\tat java.net.ServerSocket.implAccept(ServerSocket.java:545)\r\n\tat java.net.ServerSocket.accept(ServerSocket.java:513)\r\n\tat org.apache.spark.api.python.PythonWorkerFactory.createSimpleWorker(PythonWorkerFactory.scala:176)\r\n\t... 35 more\r\n"
     ]
    }
   ],
   "source": [
    "# Define the MySQL connection properties\n",
    "url = \"jdbc:mysql://localhost:3306/creditcard_capstone\"\n",
    "table = \"CDW_SAPP_loan_application\"\n",
    "properties = {\n",
    "    \"user\": user,\n",
    "    \"password\": password,\n",
    "    \"driver\": \"com.mysql.cj.jdbc.Driver\"\n",
    "}\n",
    "\n",
    "# Write the loan data to the MySQL table\n",
    "spark_loan_df.write.jdbc(url=url, table=table, mode=\"overwrite\", properties=properties)"
   ]
  },
  {
   "cell_type": "code",
   "execution_count": 11,
   "metadata": {},
   "outputs": [
    {
     "data": {
      "text/plain": [
       "<pyspark.sql.readwriter.DataFrameWriter at 0x21c9edb2680>"
      ]
     },
     "execution_count": 11,
     "metadata": {},
     "output_type": "execute_result"
    }
   ],
   "source": [
    "spark_loan_df.write \\\n",
    "    .format(\"jdbc\") \\\n",
    "    .option(\"url\", \"jdbc:mysql://localhost:3306/creditcard_capstone\") \\\n",
    "    .option(\"driver\", \"com.mysql.jdbc.Driver\") \\\n",
    "    .option(\"dbtable\", \"CDW_SAPP_loan_application\") \\\n",
    "    .option(\"user\", user) \\\n",
    "    .option(\"password\", password) \\\n",
    "    .mode(\"overwrite\") \\\n",
    "    #.save()"
   ]
  },
  {
   "cell_type": "code",
   "execution_count": 12,
   "metadata": {},
   "outputs": [
    {
     "ename": "SyntaxError",
     "evalue": "positional argument follows keyword argument (3782729331.py, line 4)",
     "output_type": "error",
     "traceback": [
      "\u001b[1;36m  Cell \u001b[1;32mIn[12], line 4\u001b[1;36m\u001b[0m\n\u001b[1;33m    properties={'user': user, 'password': password},\"driver\": \"com.mysql.cj.jdbc.Driver\")\u001b[0m\n\u001b[1;37m                                                            ^\u001b[0m\n\u001b[1;31mSyntaxError\u001b[0m\u001b[1;31m:\u001b[0m positional argument follows keyword argument\n"
     ]
    }
   ],
   "source": [
    "spark_loan_df.write.jdbc(url='jdbc:mysql://localhost:3306/creditcard_capstone', \n",
    "                         table='CDW_SAPP_loan_application', mode='overwrite',\n",
    "                         \n",
    "                         properties={'user': user, 'password': password},driver: \"com.mysql.cj.jdbc.Driver\")"
   ]
  },
  {
   "cell_type": "code",
   "execution_count": null,
   "metadata": {},
   "outputs": [],
   "source": [
    "\n",
    "\n",
    "\n",
    "# # create new table in the \"creditcard_capstone\" database\n",
    "# cursor = cnx.cursor()\n",
    "# cursor.execute(\"\"\"\n",
    "#   CREATE TABLE IF NOT EXISTS CDW_SAPP_loan_application (\n",
    "#     Loan_ID VARCHAR(50) NOT NULL,\n",
    "#     Gender VARCHAR(10) NOT NULL,\n",
    "#     Married VARCHAR(10) NOT NULL,\n",
    "#     Dependents VARCHAR(10) NOT NULL,\n",
    "#     Education VARCHAR(20) NOT NULL,\n",
    "#     Self_Employed VARCHAR(10)NOT NULL,\n",
    "#     ApplicantIncome INT NOT NULL,\n",
    "#     CoapplicantIncome INT NOT NULL,\n",
    "#     LoanAmount FLOAT NOT NULL,\n",
    "#     Loan_Amount_Term INT NOT NULL,\n",
    "#     Credit_History FLOAT NOT NULL,\n",
    "#     Property_Area VARCHAR(20) NOT NULL,\n",
    "#     Loan_Status VARCHAR(10) NOT NULL\n",
    "#   )\n",
    "# \"\"\")\n",
    "\n",
    "\n"
   ]
  },
  {
   "cell_type": "code",
   "execution_count": 18,
   "metadata": {},
   "outputs": [
    {
     "ename": "Py4JJavaError",
     "evalue": "An error occurred while calling o124.save.\n: org.apache.spark.SparkException: Job aborted due to stage failure: Task 3 in stage 2.0 failed 1 times, most recent failure: Lost task 3.0 in stage 2.0 (TID 19) (host.docker.internal executor driver): org.apache.spark.SparkException: Python worker failed to connect back.\r\n\tat org.apache.spark.api.python.PythonWorkerFactory.createSimpleWorker(PythonWorkerFactory.scala:189)\r\n\tat org.apache.spark.api.python.PythonWorkerFactory.create(PythonWorkerFactory.scala:109)\r\n\tat org.apache.spark.SparkEnv.createPythonWorker(SparkEnv.scala:124)\r\n\tat org.apache.spark.api.python.BasePythonRunner.compute(PythonRunner.scala:164)\r\n\tat org.apache.spark.api.python.PythonRDD.compute(PythonRDD.scala:65)\r\n\tat org.apache.spark.rdd.RDD.computeOrReadCheckpoint(RDD.scala:365)\r\n\tat org.apache.spark.rdd.RDD.iterator(RDD.scala:329)\r\n\tat org.apache.spark.rdd.MapPartitionsRDD.compute(MapPartitionsRDD.scala:52)\r\n\tat org.apache.spark.rdd.RDD.computeOrReadCheckpoint(RDD.scala:365)\r\n\tat org.apache.spark.rdd.RDD.iterator(RDD.scala:329)\r\n\tat org.apache.spark.rdd.MapPartitionsRDD.compute(MapPartitionsRDD.scala:52)\r\n\tat org.apache.spark.rdd.RDD.computeOrReadCheckpoint(RDD.scala:365)\r\n\tat org.apache.spark.rdd.RDD.iterator(RDD.scala:329)\r\n\tat org.apache.spark.rdd.MapPartitionsRDD.compute(MapPartitionsRDD.scala:52)\r\n\tat org.apache.spark.rdd.RDD.computeOrReadCheckpoint(RDD.scala:365)\r\n\tat org.apache.spark.rdd.RDD.iterator(RDD.scala:329)\r\n\tat org.apache.spark.rdd.MapPartitionsRDD.compute(MapPartitionsRDD.scala:52)\r\n\tat org.apache.spark.rdd.RDD.computeOrReadCheckpoint(RDD.scala:365)\r\n\tat org.apache.spark.rdd.RDD.iterator(RDD.scala:329)\r\n\tat org.apache.spark.rdd.MapPartitionsRDD.compute(MapPartitionsRDD.scala:52)\r\n\tat org.apache.spark.rdd.RDD.computeOrReadCheckpoint(RDD.scala:365)\r\n\tat org.apache.spark.rdd.RDD.iterator(RDD.scala:329)\r\n\tat org.apache.spark.sql.execution.SQLExecutionRDD.compute(SQLExecutionRDD.scala:55)\r\n\tat org.apache.spark.rdd.RDD.computeOrReadCheckpoint(RDD.scala:365)\r\n\tat org.apache.spark.rdd.RDD.iterator(RDD.scala:329)\r\n\tat org.apache.spark.rdd.MapPartitionsRDD.compute(MapPartitionsRDD.scala:52)\r\n\tat org.apache.spark.rdd.RDD.computeOrReadCheckpoint(RDD.scala:365)\r\n\tat org.apache.spark.rdd.RDD.iterator(RDD.scala:329)\r\n\tat org.apache.spark.scheduler.ResultTask.runTask(ResultTask.scala:90)\r\n\tat org.apache.spark.scheduler.Task.run(Task.scala:136)\r\n\tat org.apache.spark.executor.Executor$TaskRunner.$anonfun$run$3(Executor.scala:548)\r\n\tat org.apache.spark.util.Utils$.tryWithSafeFinally(Utils.scala:1504)\r\n\tat org.apache.spark.executor.Executor$TaskRunner.run(Executor.scala:551)\r\n\tat java.util.concurrent.ThreadPoolExecutor.runWorker(ThreadPoolExecutor.java:1149)\r\n\tat java.util.concurrent.ThreadPoolExecutor$Worker.run(ThreadPoolExecutor.java:624)\r\n\tat java.lang.Thread.run(Thread.java:750)\r\nCaused by: java.net.SocketTimeoutException: Accept timed out\r\n\tat java.net.DualStackPlainSocketImpl.waitForNewConnection(Native Method)\r\n\tat java.net.DualStackPlainSocketImpl.socketAccept(DualStackPlainSocketImpl.java:131)\r\n\tat java.net.AbstractPlainSocketImpl.accept(AbstractPlainSocketImpl.java:535)\r\n\tat java.net.PlainSocketImpl.accept(PlainSocketImpl.java:189)\r\n\tat java.net.ServerSocket.implAccept(ServerSocket.java:545)\r\n\tat java.net.ServerSocket.accept(ServerSocket.java:513)\r\n\tat org.apache.spark.api.python.PythonWorkerFactory.createSimpleWorker(PythonWorkerFactory.scala:176)\r\n\t... 35 more\r\n\nDriver stacktrace:\r\n\tat org.apache.spark.scheduler.DAGScheduler.failJobAndIndependentStages(DAGScheduler.scala:2672)\r\n\tat org.apache.spark.scheduler.DAGScheduler.$anonfun$abortStage$2(DAGScheduler.scala:2608)\r\n\tat org.apache.spark.scheduler.DAGScheduler.$anonfun$abortStage$2$adapted(DAGScheduler.scala:2607)\r\n\tat scala.collection.mutable.ResizableArray.foreach(ResizableArray.scala:62)\r\n\tat scala.collection.mutable.ResizableArray.foreach$(ResizableArray.scala:55)\r\n\tat scala.collection.mutable.ArrayBuffer.foreach(ArrayBuffer.scala:49)\r\n\tat org.apache.spark.scheduler.DAGScheduler.abortStage(DAGScheduler.scala:2607)\r\n\tat org.apache.spark.scheduler.DAGScheduler.$anonfun$handleTaskSetFailed$1(DAGScheduler.scala:1182)\r\n\tat org.apache.spark.scheduler.DAGScheduler.$anonfun$handleTaskSetFailed$1$adapted(DAGScheduler.scala:1182)\r\n\tat scala.Option.foreach(Option.scala:407)\r\n\tat org.apache.spark.scheduler.DAGScheduler.handleTaskSetFailed(DAGScheduler.scala:1182)\r\n\tat org.apache.spark.scheduler.DAGSchedulerEventProcessLoop.doOnReceive(DAGScheduler.scala:2860)\r\n\tat org.apache.spark.scheduler.DAGSchedulerEventProcessLoop.onReceive(DAGScheduler.scala:2802)\r\n\tat org.apache.spark.scheduler.DAGSchedulerEventProcessLoop.onReceive(DAGScheduler.scala:2791)\r\n\tat org.apache.spark.util.EventLoop$$anon$1.run(EventLoop.scala:49)\r\n\tat org.apache.spark.scheduler.DAGScheduler.runJob(DAGScheduler.scala:952)\r\n\tat org.apache.spark.SparkContext.runJob(SparkContext.scala:2228)\r\n\tat org.apache.spark.SparkContext.runJob(SparkContext.scala:2249)\r\n\tat org.apache.spark.SparkContext.runJob(SparkContext.scala:2268)\r\n\tat org.apache.spark.SparkContext.runJob(SparkContext.scala:2293)\r\n\tat org.apache.spark.rdd.RDD.$anonfun$foreachPartition$1(RDD.scala:1011)\r\n\tat org.apache.spark.rdd.RDDOperationScope$.withScope(RDDOperationScope.scala:151)\r\n\tat org.apache.spark.rdd.RDDOperationScope$.withScope(RDDOperationScope.scala:112)\r\n\tat org.apache.spark.rdd.RDD.withScope(RDD.scala:406)\r\n\tat org.apache.spark.rdd.RDD.foreachPartition(RDD.scala:1009)\r\n\tat org.apache.spark.sql.execution.datasources.jdbc.JdbcUtils$.saveTable(JdbcUtils.scala:867)\r\n\tat org.apache.spark.sql.execution.datasources.jdbc.JdbcRelationProvider.createRelation(JdbcRelationProvider.scala:82)\r\n\tat org.apache.spark.sql.execution.datasources.SaveIntoDataSourceCommand.run(SaveIntoDataSourceCommand.scala:47)\r\n\tat org.apache.spark.sql.execution.command.ExecutedCommandExec.sideEffectResult$lzycompute(commands.scala:75)\r\n\tat org.apache.spark.sql.execution.command.ExecutedCommandExec.sideEffectResult(commands.scala:73)\r\n\tat org.apache.spark.sql.execution.command.ExecutedCommandExec.executeCollect(commands.scala:84)\r\n\tat org.apache.spark.sql.execution.QueryExecution$$anonfun$eagerlyExecuteCommands$1.$anonfun$applyOrElse$1(QueryExecution.scala:98)\r\n\tat org.apache.spark.sql.execution.SQLExecution$.$anonfun$withNewExecutionId$6(SQLExecution.scala:109)\r\n\tat org.apache.spark.sql.execution.SQLExecution$.withSQLConfPropagated(SQLExecution.scala:169)\r\n\tat org.apache.spark.sql.execution.SQLExecution$.$anonfun$withNewExecutionId$1(SQLExecution.scala:95)\r\n\tat org.apache.spark.sql.SparkSession.withActive(SparkSession.scala:779)\r\n\tat org.apache.spark.sql.execution.SQLExecution$.withNewExecutionId(SQLExecution.scala:64)\r\n\tat org.apache.spark.sql.execution.QueryExecution$$anonfun$eagerlyExecuteCommands$1.applyOrElse(QueryExecution.scala:98)\r\n\tat org.apache.spark.sql.execution.QueryExecution$$anonfun$eagerlyExecuteCommands$1.applyOrElse(QueryExecution.scala:94)\r\n\tat org.apache.spark.sql.catalyst.trees.TreeNode.$anonfun$transformDownWithPruning$1(TreeNode.scala:584)\r\n\tat org.apache.spark.sql.catalyst.trees.CurrentOrigin$.withOrigin(TreeNode.scala:176)\r\n\tat org.apache.spark.sql.catalyst.trees.TreeNode.transformDownWithPruning(TreeNode.scala:584)\r\n\tat org.apache.spark.sql.catalyst.plans.logical.LogicalPlan.org$apache$spark$sql$catalyst$plans$logical$AnalysisHelper$$super$transformDownWithPruning(LogicalPlan.scala:30)\r\n\tat org.apache.spark.sql.catalyst.plans.logical.AnalysisHelper.transformDownWithPruning(AnalysisHelper.scala:267)\r\n\tat org.apache.spark.sql.catalyst.plans.logical.AnalysisHelper.transformDownWithPruning$(AnalysisHelper.scala:263)\r\n\tat org.apache.spark.sql.catalyst.plans.logical.LogicalPlan.transformDownWithPruning(LogicalPlan.scala:30)\r\n\tat org.apache.spark.sql.catalyst.plans.logical.LogicalPlan.transformDownWithPruning(LogicalPlan.scala:30)\r\n\tat org.apache.spark.sql.catalyst.trees.TreeNode.transformDown(TreeNode.scala:560)\r\n\tat org.apache.spark.sql.execution.QueryExecution.eagerlyExecuteCommands(QueryExecution.scala:94)\r\n\tat org.apache.spark.sql.execution.QueryExecution.commandExecuted$lzycompute(QueryExecution.scala:81)\r\n\tat org.apache.spark.sql.execution.QueryExecution.commandExecuted(QueryExecution.scala:79)\r\n\tat org.apache.spark.sql.execution.QueryExecution.assertCommandExecuted(QueryExecution.scala:116)\r\n\tat org.apache.spark.sql.DataFrameWriter.runCommand(DataFrameWriter.scala:860)\r\n\tat org.apache.spark.sql.DataFrameWriter.saveToV1Source(DataFrameWriter.scala:390)\r\n\tat org.apache.spark.sql.DataFrameWriter.saveInternal(DataFrameWriter.scala:363)\r\n\tat org.apache.spark.sql.DataFrameWriter.save(DataFrameWriter.scala:247)\r\n\tat sun.reflect.NativeMethodAccessorImpl.invoke0(Native Method)\r\n\tat sun.reflect.NativeMethodAccessorImpl.invoke(NativeMethodAccessorImpl.java:62)\r\n\tat sun.reflect.DelegatingMethodAccessorImpl.invoke(DelegatingMethodAccessorImpl.java:43)\r\n\tat java.lang.reflect.Method.invoke(Method.java:498)\r\n\tat py4j.reflection.MethodInvoker.invoke(MethodInvoker.java:244)\r\n\tat py4j.reflection.ReflectionEngine.invoke(ReflectionEngine.java:357)\r\n\tat py4j.Gateway.invoke(Gateway.java:282)\r\n\tat py4j.commands.AbstractCommand.invokeMethod(AbstractCommand.java:132)\r\n\tat py4j.commands.CallCommand.execute(CallCommand.java:79)\r\n\tat py4j.ClientServerConnection.waitForCommands(ClientServerConnection.java:182)\r\n\tat py4j.ClientServerConnection.run(ClientServerConnection.java:106)\r\n\tat java.lang.Thread.run(Thread.java:750)\r\nCaused by: org.apache.spark.SparkException: Python worker failed to connect back.\r\n\tat org.apache.spark.api.python.PythonWorkerFactory.createSimpleWorker(PythonWorkerFactory.scala:189)\r\n\tat org.apache.spark.api.python.PythonWorkerFactory.create(PythonWorkerFactory.scala:109)\r\n\tat org.apache.spark.SparkEnv.createPythonWorker(SparkEnv.scala:124)\r\n\tat org.apache.spark.api.python.BasePythonRunner.compute(PythonRunner.scala:164)\r\n\tat org.apache.spark.api.python.PythonRDD.compute(PythonRDD.scala:65)\r\n\tat org.apache.spark.rdd.RDD.computeOrReadCheckpoint(RDD.scala:365)\r\n\tat org.apache.spark.rdd.RDD.iterator(RDD.scala:329)\r\n\tat org.apache.spark.rdd.MapPartitionsRDD.compute(MapPartitionsRDD.scala:52)\r\n\tat org.apache.spark.rdd.RDD.computeOrReadCheckpoint(RDD.scala:365)\r\n\tat org.apache.spark.rdd.RDD.iterator(RDD.scala:329)\r\n\tat org.apache.spark.rdd.MapPartitionsRDD.compute(MapPartitionsRDD.scala:52)\r\n\tat org.apache.spark.rdd.RDD.computeOrReadCheckpoint(RDD.scala:365)\r\n\tat org.apache.spark.rdd.RDD.iterator(RDD.scala:329)\r\n\tat org.apache.spark.rdd.MapPartitionsRDD.compute(MapPartitionsRDD.scala:52)\r\n\tat org.apache.spark.rdd.RDD.computeOrReadCheckpoint(RDD.scala:365)\r\n\tat org.apache.spark.rdd.RDD.iterator(RDD.scala:329)\r\n\tat org.apache.spark.rdd.MapPartitionsRDD.compute(MapPartitionsRDD.scala:52)\r\n\tat org.apache.spark.rdd.RDD.computeOrReadCheckpoint(RDD.scala:365)\r\n\tat org.apache.spark.rdd.RDD.iterator(RDD.scala:329)\r\n\tat org.apache.spark.rdd.MapPartitionsRDD.compute(MapPartitionsRDD.scala:52)\r\n\tat org.apache.spark.rdd.RDD.computeOrReadCheckpoint(RDD.scala:365)\r\n\tat org.apache.spark.rdd.RDD.iterator(RDD.scala:329)\r\n\tat org.apache.spark.sql.execution.SQLExecutionRDD.compute(SQLExecutionRDD.scala:55)\r\n\tat org.apache.spark.rdd.RDD.computeOrReadCheckpoint(RDD.scala:365)\r\n\tat org.apache.spark.rdd.RDD.iterator(RDD.scala:329)\r\n\tat org.apache.spark.rdd.MapPartitionsRDD.compute(MapPartitionsRDD.scala:52)\r\n\tat org.apache.spark.rdd.RDD.computeOrReadCheckpoint(RDD.scala:365)\r\n\tat org.apache.spark.rdd.RDD.iterator(RDD.scala:329)\r\n\tat org.apache.spark.scheduler.ResultTask.runTask(ResultTask.scala:90)\r\n\tat org.apache.spark.scheduler.Task.run(Task.scala:136)\r\n\tat org.apache.spark.executor.Executor$TaskRunner.$anonfun$run$3(Executor.scala:548)\r\n\tat org.apache.spark.util.Utils$.tryWithSafeFinally(Utils.scala:1504)\r\n\tat org.apache.spark.executor.Executor$TaskRunner.run(Executor.scala:551)\r\n\tat java.util.concurrent.ThreadPoolExecutor.runWorker(ThreadPoolExecutor.java:1149)\r\n\tat java.util.concurrent.ThreadPoolExecutor$Worker.run(ThreadPoolExecutor.java:624)\r\n\t... 1 more\r\nCaused by: java.net.SocketTimeoutException: Accept timed out\r\n\tat java.net.DualStackPlainSocketImpl.waitForNewConnection(Native Method)\r\n\tat java.net.DualStackPlainSocketImpl.socketAccept(DualStackPlainSocketImpl.java:131)\r\n\tat java.net.AbstractPlainSocketImpl.accept(AbstractPlainSocketImpl.java:535)\r\n\tat java.net.PlainSocketImpl.accept(PlainSocketImpl.java:189)\r\n\tat java.net.ServerSocket.implAccept(ServerSocket.java:545)\r\n\tat java.net.ServerSocket.accept(ServerSocket.java:513)\r\n\tat org.apache.spark.api.python.PythonWorkerFactory.createSimpleWorker(PythonWorkerFactory.scala:176)\r\n\t... 35 more\r\n",
     "output_type": "error",
     "traceback": [
      "\u001b[1;31m---------------------------------------------------------------------------\u001b[0m",
      "\u001b[1;31mPy4JJavaError\u001b[0m                             Traceback (most recent call last)",
      "Cell \u001b[1;32mIn[18], line 31\u001b[0m\n\u001b[0;32m     11\u001b[0m     exit()\n\u001b[0;32m     13\u001b[0m \u001b[39m#load the data into the new table\u001b[39;00m\n\u001b[0;32m     14\u001b[0m \u001b[39m# spark_loan_df.write.format(\"jdbc\").options(\u001b[39;00m\n\u001b[0;32m     15\u001b[0m \u001b[39m#   url=\"jdbc:mysql://localhost:3306/creditcard_capstone\",\u001b[39;00m\n\u001b[1;32m   (...)\u001b[0m\n\u001b[0;32m     19\u001b[0m \u001b[39m#    password=password\u001b[39;00m\n\u001b[0;32m     20\u001b[0m \u001b[39m#  ).mode(\"overwrite\").save()\u001b[39;00m\n\u001b[0;32m     23\u001b[0m spark_loan_df\u001b[39m.\u001b[39;49mwrite \\\n\u001b[0;32m     24\u001b[0m     \u001b[39m.\u001b[39;49mformat(\u001b[39m\"\u001b[39;49m\u001b[39mjdbc\u001b[39;49m\u001b[39m\"\u001b[39;49m) \\\n\u001b[0;32m     25\u001b[0m     \u001b[39m.\u001b[39;49moption(\u001b[39m\"\u001b[39;49m\u001b[39murl\u001b[39;49m\u001b[39m\"\u001b[39;49m, \u001b[39m\"\u001b[39;49m\u001b[39mjdbc:mysql://localhost:3306/creditcard_capstone\u001b[39;49m\u001b[39m\"\u001b[39;49m) \\\n\u001b[0;32m     26\u001b[0m     \u001b[39m.\u001b[39;49moption(\u001b[39m\"\u001b[39;49m\u001b[39mdriver\u001b[39;49m\u001b[39m\"\u001b[39;49m, \u001b[39m\"\u001b[39;49m\u001b[39mcom.mysql.jdbc.Driver\u001b[39;49m\u001b[39m\"\u001b[39;49m) \\\n\u001b[0;32m     27\u001b[0m     \u001b[39m.\u001b[39;49moption(\u001b[39m\"\u001b[39;49m\u001b[39mdbtable\u001b[39;49m\u001b[39m\"\u001b[39;49m, \u001b[39m\"\u001b[39;49m\u001b[39mCDW_SAPP_loan_application\u001b[39;49m\u001b[39m\"\u001b[39;49m) \\\n\u001b[0;32m     28\u001b[0m     \u001b[39m.\u001b[39;49moption(\u001b[39m\"\u001b[39;49m\u001b[39muser\u001b[39;49m\u001b[39m\"\u001b[39;49m, user) \\\n\u001b[0;32m     29\u001b[0m     \u001b[39m.\u001b[39;49moption(\u001b[39m\"\u001b[39;49m\u001b[39mpassword\u001b[39;49m\u001b[39m\"\u001b[39;49m, password) \\\n\u001b[0;32m     30\u001b[0m     \u001b[39m.\u001b[39;49mmode(\u001b[39m\"\u001b[39;49m\u001b[39moverwrite\u001b[39;49m\u001b[39m\"\u001b[39;49m) \\\n\u001b[1;32m---> 31\u001b[0m     \u001b[39m.\u001b[39;49msave()\n\u001b[0;32m     33\u001b[0m \u001b[39m#cnx.commit()\u001b[39;00m\n\u001b[0;32m     34\u001b[0m \u001b[39m# close the MySQL connection\u001b[39;00m\n\u001b[0;32m     35\u001b[0m cnx\u001b[39m.\u001b[39mclose()\n",
      "File \u001b[1;32mc:\\Users\\Learner_XZHCG222\\Documents\\Per Scholas\\Data Engineering\\repos\\Data Engineering - Capstone Project\\dataEngProject\\lib\\site-packages\\pyspark\\sql\\readwriter.py:966\u001b[0m, in \u001b[0;36mDataFrameWriter.save\u001b[1;34m(self, path, format, mode, partitionBy, **options)\u001b[0m\n\u001b[0;32m    964\u001b[0m     \u001b[39mself\u001b[39m\u001b[39m.\u001b[39mformat(\u001b[39mformat\u001b[39m)\n\u001b[0;32m    965\u001b[0m \u001b[39mif\u001b[39;00m path \u001b[39mis\u001b[39;00m \u001b[39mNone\u001b[39;00m:\n\u001b[1;32m--> 966\u001b[0m     \u001b[39mself\u001b[39;49m\u001b[39m.\u001b[39;49m_jwrite\u001b[39m.\u001b[39;49msave()\n\u001b[0;32m    967\u001b[0m \u001b[39melse\u001b[39;00m:\n\u001b[0;32m    968\u001b[0m     \u001b[39mself\u001b[39m\u001b[39m.\u001b[39m_jwrite\u001b[39m.\u001b[39msave(path)\n",
      "File \u001b[1;32mc:\\Users\\Learner_XZHCG222\\Documents\\Per Scholas\\Data Engineering\\repos\\Data Engineering - Capstone Project\\dataEngProject\\lib\\site-packages\\py4j\\java_gateway.py:1321\u001b[0m, in \u001b[0;36mJavaMember.__call__\u001b[1;34m(self, *args)\u001b[0m\n\u001b[0;32m   1315\u001b[0m command \u001b[39m=\u001b[39m proto\u001b[39m.\u001b[39mCALL_COMMAND_NAME \u001b[39m+\u001b[39m\\\n\u001b[0;32m   1316\u001b[0m     \u001b[39mself\u001b[39m\u001b[39m.\u001b[39mcommand_header \u001b[39m+\u001b[39m\\\n\u001b[0;32m   1317\u001b[0m     args_command \u001b[39m+\u001b[39m\\\n\u001b[0;32m   1318\u001b[0m     proto\u001b[39m.\u001b[39mEND_COMMAND_PART\n\u001b[0;32m   1320\u001b[0m answer \u001b[39m=\u001b[39m \u001b[39mself\u001b[39m\u001b[39m.\u001b[39mgateway_client\u001b[39m.\u001b[39msend_command(command)\n\u001b[1;32m-> 1321\u001b[0m return_value \u001b[39m=\u001b[39m get_return_value(\n\u001b[0;32m   1322\u001b[0m     answer, \u001b[39mself\u001b[39;49m\u001b[39m.\u001b[39;49mgateway_client, \u001b[39mself\u001b[39;49m\u001b[39m.\u001b[39;49mtarget_id, \u001b[39mself\u001b[39;49m\u001b[39m.\u001b[39;49mname)\n\u001b[0;32m   1324\u001b[0m \u001b[39mfor\u001b[39;00m temp_arg \u001b[39min\u001b[39;00m temp_args:\n\u001b[0;32m   1325\u001b[0m     temp_arg\u001b[39m.\u001b[39m_detach()\n",
      "File \u001b[1;32mc:\\Users\\Learner_XZHCG222\\Documents\\Per Scholas\\Data Engineering\\repos\\Data Engineering - Capstone Project\\dataEngProject\\lib\\site-packages\\pyspark\\sql\\utils.py:190\u001b[0m, in \u001b[0;36mcapture_sql_exception.<locals>.deco\u001b[1;34m(*a, **kw)\u001b[0m\n\u001b[0;32m    188\u001b[0m \u001b[39mdef\u001b[39;00m \u001b[39mdeco\u001b[39m(\u001b[39m*\u001b[39ma: Any, \u001b[39m*\u001b[39m\u001b[39m*\u001b[39mkw: Any) \u001b[39m-\u001b[39m\u001b[39m>\u001b[39m Any:\n\u001b[0;32m    189\u001b[0m     \u001b[39mtry\u001b[39;00m:\n\u001b[1;32m--> 190\u001b[0m         \u001b[39mreturn\u001b[39;00m f(\u001b[39m*\u001b[39ma, \u001b[39m*\u001b[39m\u001b[39m*\u001b[39mkw)\n\u001b[0;32m    191\u001b[0m     \u001b[39mexcept\u001b[39;00m Py4JJavaError \u001b[39mas\u001b[39;00m e:\n\u001b[0;32m    192\u001b[0m         converted \u001b[39m=\u001b[39m convert_exception(e\u001b[39m.\u001b[39mjava_exception)\n",
      "File \u001b[1;32mc:\\Users\\Learner_XZHCG222\\Documents\\Per Scholas\\Data Engineering\\repos\\Data Engineering - Capstone Project\\dataEngProject\\lib\\site-packages\\py4j\\protocol.py:326\u001b[0m, in \u001b[0;36mget_return_value\u001b[1;34m(answer, gateway_client, target_id, name)\u001b[0m\n\u001b[0;32m    324\u001b[0m value \u001b[39m=\u001b[39m OUTPUT_CONVERTER[\u001b[39mtype\u001b[39m](answer[\u001b[39m2\u001b[39m:], gateway_client)\n\u001b[0;32m    325\u001b[0m \u001b[39mif\u001b[39;00m answer[\u001b[39m1\u001b[39m] \u001b[39m==\u001b[39m REFERENCE_TYPE:\n\u001b[1;32m--> 326\u001b[0m     \u001b[39mraise\u001b[39;00m Py4JJavaError(\n\u001b[0;32m    327\u001b[0m         \u001b[39m\"\u001b[39m\u001b[39mAn error occurred while calling \u001b[39m\u001b[39m{0}\u001b[39;00m\u001b[39m{1}\u001b[39;00m\u001b[39m{2}\u001b[39;00m\u001b[39m.\u001b[39m\u001b[39m\\n\u001b[39;00m\u001b[39m\"\u001b[39m\u001b[39m.\u001b[39m\n\u001b[0;32m    328\u001b[0m         \u001b[39mformat\u001b[39m(target_id, \u001b[39m\"\u001b[39m\u001b[39m.\u001b[39m\u001b[39m\"\u001b[39m, name), value)\n\u001b[0;32m    329\u001b[0m \u001b[39melse\u001b[39;00m:\n\u001b[0;32m    330\u001b[0m     \u001b[39mraise\u001b[39;00m Py4JError(\n\u001b[0;32m    331\u001b[0m         \u001b[39m\"\u001b[39m\u001b[39mAn error occurred while calling \u001b[39m\u001b[39m{0}\u001b[39;00m\u001b[39m{1}\u001b[39;00m\u001b[39m{2}\u001b[39;00m\u001b[39m. Trace:\u001b[39m\u001b[39m\\n\u001b[39;00m\u001b[39m{3}\u001b[39;00m\u001b[39m\\n\u001b[39;00m\u001b[39m\"\u001b[39m\u001b[39m.\u001b[39m\n\u001b[0;32m    332\u001b[0m         \u001b[39mformat\u001b[39m(target_id, \u001b[39m\"\u001b[39m\u001b[39m.\u001b[39m\u001b[39m\"\u001b[39m, name, value))\n",
      "\u001b[1;31mPy4JJavaError\u001b[0m: An error occurred while calling o124.save.\n: org.apache.spark.SparkException: Job aborted due to stage failure: Task 3 in stage 2.0 failed 1 times, most recent failure: Lost task 3.0 in stage 2.0 (TID 19) (host.docker.internal executor driver): org.apache.spark.SparkException: Python worker failed to connect back.\r\n\tat org.apache.spark.api.python.PythonWorkerFactory.createSimpleWorker(PythonWorkerFactory.scala:189)\r\n\tat org.apache.spark.api.python.PythonWorkerFactory.create(PythonWorkerFactory.scala:109)\r\n\tat org.apache.spark.SparkEnv.createPythonWorker(SparkEnv.scala:124)\r\n\tat org.apache.spark.api.python.BasePythonRunner.compute(PythonRunner.scala:164)\r\n\tat org.apache.spark.api.python.PythonRDD.compute(PythonRDD.scala:65)\r\n\tat org.apache.spark.rdd.RDD.computeOrReadCheckpoint(RDD.scala:365)\r\n\tat org.apache.spark.rdd.RDD.iterator(RDD.scala:329)\r\n\tat org.apache.spark.rdd.MapPartitionsRDD.compute(MapPartitionsRDD.scala:52)\r\n\tat org.apache.spark.rdd.RDD.computeOrReadCheckpoint(RDD.scala:365)\r\n\tat org.apache.spark.rdd.RDD.iterator(RDD.scala:329)\r\n\tat org.apache.spark.rdd.MapPartitionsRDD.compute(MapPartitionsRDD.scala:52)\r\n\tat org.apache.spark.rdd.RDD.computeOrReadCheckpoint(RDD.scala:365)\r\n\tat org.apache.spark.rdd.RDD.iterator(RDD.scala:329)\r\n\tat org.apache.spark.rdd.MapPartitionsRDD.compute(MapPartitionsRDD.scala:52)\r\n\tat org.apache.spark.rdd.RDD.computeOrReadCheckpoint(RDD.scala:365)\r\n\tat org.apache.spark.rdd.RDD.iterator(RDD.scala:329)\r\n\tat org.apache.spark.rdd.MapPartitionsRDD.compute(MapPartitionsRDD.scala:52)\r\n\tat org.apache.spark.rdd.RDD.computeOrReadCheckpoint(RDD.scala:365)\r\n\tat org.apache.spark.rdd.RDD.iterator(RDD.scala:329)\r\n\tat org.apache.spark.rdd.MapPartitionsRDD.compute(MapPartitionsRDD.scala:52)\r\n\tat org.apache.spark.rdd.RDD.computeOrReadCheckpoint(RDD.scala:365)\r\n\tat org.apache.spark.rdd.RDD.iterator(RDD.scala:329)\r\n\tat org.apache.spark.sql.execution.SQLExecutionRDD.compute(SQLExecutionRDD.scala:55)\r\n\tat org.apache.spark.rdd.RDD.computeOrReadCheckpoint(RDD.scala:365)\r\n\tat org.apache.spark.rdd.RDD.iterator(RDD.scala:329)\r\n\tat org.apache.spark.rdd.MapPartitionsRDD.compute(MapPartitionsRDD.scala:52)\r\n\tat org.apache.spark.rdd.RDD.computeOrReadCheckpoint(RDD.scala:365)\r\n\tat org.apache.spark.rdd.RDD.iterator(RDD.scala:329)\r\n\tat org.apache.spark.scheduler.ResultTask.runTask(ResultTask.scala:90)\r\n\tat org.apache.spark.scheduler.Task.run(Task.scala:136)\r\n\tat org.apache.spark.executor.Executor$TaskRunner.$anonfun$run$3(Executor.scala:548)\r\n\tat org.apache.spark.util.Utils$.tryWithSafeFinally(Utils.scala:1504)\r\n\tat org.apache.spark.executor.Executor$TaskRunner.run(Executor.scala:551)\r\n\tat java.util.concurrent.ThreadPoolExecutor.runWorker(ThreadPoolExecutor.java:1149)\r\n\tat java.util.concurrent.ThreadPoolExecutor$Worker.run(ThreadPoolExecutor.java:624)\r\n\tat java.lang.Thread.run(Thread.java:750)\r\nCaused by: java.net.SocketTimeoutException: Accept timed out\r\n\tat java.net.DualStackPlainSocketImpl.waitForNewConnection(Native Method)\r\n\tat java.net.DualStackPlainSocketImpl.socketAccept(DualStackPlainSocketImpl.java:131)\r\n\tat java.net.AbstractPlainSocketImpl.accept(AbstractPlainSocketImpl.java:535)\r\n\tat java.net.PlainSocketImpl.accept(PlainSocketImpl.java:189)\r\n\tat java.net.ServerSocket.implAccept(ServerSocket.java:545)\r\n\tat java.net.ServerSocket.accept(ServerSocket.java:513)\r\n\tat org.apache.spark.api.python.PythonWorkerFactory.createSimpleWorker(PythonWorkerFactory.scala:176)\r\n\t... 35 more\r\n\nDriver stacktrace:\r\n\tat org.apache.spark.scheduler.DAGScheduler.failJobAndIndependentStages(DAGScheduler.scala:2672)\r\n\tat org.apache.spark.scheduler.DAGScheduler.$anonfun$abortStage$2(DAGScheduler.scala:2608)\r\n\tat org.apache.spark.scheduler.DAGScheduler.$anonfun$abortStage$2$adapted(DAGScheduler.scala:2607)\r\n\tat scala.collection.mutable.ResizableArray.foreach(ResizableArray.scala:62)\r\n\tat scala.collection.mutable.ResizableArray.foreach$(ResizableArray.scala:55)\r\n\tat scala.collection.mutable.ArrayBuffer.foreach(ArrayBuffer.scala:49)\r\n\tat org.apache.spark.scheduler.DAGScheduler.abortStage(DAGScheduler.scala:2607)\r\n\tat org.apache.spark.scheduler.DAGScheduler.$anonfun$handleTaskSetFailed$1(DAGScheduler.scala:1182)\r\n\tat org.apache.spark.scheduler.DAGScheduler.$anonfun$handleTaskSetFailed$1$adapted(DAGScheduler.scala:1182)\r\n\tat scala.Option.foreach(Option.scala:407)\r\n\tat org.apache.spark.scheduler.DAGScheduler.handleTaskSetFailed(DAGScheduler.scala:1182)\r\n\tat org.apache.spark.scheduler.DAGSchedulerEventProcessLoop.doOnReceive(DAGScheduler.scala:2860)\r\n\tat org.apache.spark.scheduler.DAGSchedulerEventProcessLoop.onReceive(DAGScheduler.scala:2802)\r\n\tat org.apache.spark.scheduler.DAGSchedulerEventProcessLoop.onReceive(DAGScheduler.scala:2791)\r\n\tat org.apache.spark.util.EventLoop$$anon$1.run(EventLoop.scala:49)\r\n\tat org.apache.spark.scheduler.DAGScheduler.runJob(DAGScheduler.scala:952)\r\n\tat org.apache.spark.SparkContext.runJob(SparkContext.scala:2228)\r\n\tat org.apache.spark.SparkContext.runJob(SparkContext.scala:2249)\r\n\tat org.apache.spark.SparkContext.runJob(SparkContext.scala:2268)\r\n\tat org.apache.spark.SparkContext.runJob(SparkContext.scala:2293)\r\n\tat org.apache.spark.rdd.RDD.$anonfun$foreachPartition$1(RDD.scala:1011)\r\n\tat org.apache.spark.rdd.RDDOperationScope$.withScope(RDDOperationScope.scala:151)\r\n\tat org.apache.spark.rdd.RDDOperationScope$.withScope(RDDOperationScope.scala:112)\r\n\tat org.apache.spark.rdd.RDD.withScope(RDD.scala:406)\r\n\tat org.apache.spark.rdd.RDD.foreachPartition(RDD.scala:1009)\r\n\tat org.apache.spark.sql.execution.datasources.jdbc.JdbcUtils$.saveTable(JdbcUtils.scala:867)\r\n\tat org.apache.spark.sql.execution.datasources.jdbc.JdbcRelationProvider.createRelation(JdbcRelationProvider.scala:82)\r\n\tat org.apache.spark.sql.execution.datasources.SaveIntoDataSourceCommand.run(SaveIntoDataSourceCommand.scala:47)\r\n\tat org.apache.spark.sql.execution.command.ExecutedCommandExec.sideEffectResult$lzycompute(commands.scala:75)\r\n\tat org.apache.spark.sql.execution.command.ExecutedCommandExec.sideEffectResult(commands.scala:73)\r\n\tat org.apache.spark.sql.execution.command.ExecutedCommandExec.executeCollect(commands.scala:84)\r\n\tat org.apache.spark.sql.execution.QueryExecution$$anonfun$eagerlyExecuteCommands$1.$anonfun$applyOrElse$1(QueryExecution.scala:98)\r\n\tat org.apache.spark.sql.execution.SQLExecution$.$anonfun$withNewExecutionId$6(SQLExecution.scala:109)\r\n\tat org.apache.spark.sql.execution.SQLExecution$.withSQLConfPropagated(SQLExecution.scala:169)\r\n\tat org.apache.spark.sql.execution.SQLExecution$.$anonfun$withNewExecutionId$1(SQLExecution.scala:95)\r\n\tat org.apache.spark.sql.SparkSession.withActive(SparkSession.scala:779)\r\n\tat org.apache.spark.sql.execution.SQLExecution$.withNewExecutionId(SQLExecution.scala:64)\r\n\tat org.apache.spark.sql.execution.QueryExecution$$anonfun$eagerlyExecuteCommands$1.applyOrElse(QueryExecution.scala:98)\r\n\tat org.apache.spark.sql.execution.QueryExecution$$anonfun$eagerlyExecuteCommands$1.applyOrElse(QueryExecution.scala:94)\r\n\tat org.apache.spark.sql.catalyst.trees.TreeNode.$anonfun$transformDownWithPruning$1(TreeNode.scala:584)\r\n\tat org.apache.spark.sql.catalyst.trees.CurrentOrigin$.withOrigin(TreeNode.scala:176)\r\n\tat org.apache.spark.sql.catalyst.trees.TreeNode.transformDownWithPruning(TreeNode.scala:584)\r\n\tat org.apache.spark.sql.catalyst.plans.logical.LogicalPlan.org$apache$spark$sql$catalyst$plans$logical$AnalysisHelper$$super$transformDownWithPruning(LogicalPlan.scala:30)\r\n\tat org.apache.spark.sql.catalyst.plans.logical.AnalysisHelper.transformDownWithPruning(AnalysisHelper.scala:267)\r\n\tat org.apache.spark.sql.catalyst.plans.logical.AnalysisHelper.transformDownWithPruning$(AnalysisHelper.scala:263)\r\n\tat org.apache.spark.sql.catalyst.plans.logical.LogicalPlan.transformDownWithPruning(LogicalPlan.scala:30)\r\n\tat org.apache.spark.sql.catalyst.plans.logical.LogicalPlan.transformDownWithPruning(LogicalPlan.scala:30)\r\n\tat org.apache.spark.sql.catalyst.trees.TreeNode.transformDown(TreeNode.scala:560)\r\n\tat org.apache.spark.sql.execution.QueryExecution.eagerlyExecuteCommands(QueryExecution.scala:94)\r\n\tat org.apache.spark.sql.execution.QueryExecution.commandExecuted$lzycompute(QueryExecution.scala:81)\r\n\tat org.apache.spark.sql.execution.QueryExecution.commandExecuted(QueryExecution.scala:79)\r\n\tat org.apache.spark.sql.execution.QueryExecution.assertCommandExecuted(QueryExecution.scala:116)\r\n\tat org.apache.spark.sql.DataFrameWriter.runCommand(DataFrameWriter.scala:860)\r\n\tat org.apache.spark.sql.DataFrameWriter.saveToV1Source(DataFrameWriter.scala:390)\r\n\tat org.apache.spark.sql.DataFrameWriter.saveInternal(DataFrameWriter.scala:363)\r\n\tat org.apache.spark.sql.DataFrameWriter.save(DataFrameWriter.scala:247)\r\n\tat sun.reflect.NativeMethodAccessorImpl.invoke0(Native Method)\r\n\tat sun.reflect.NativeMethodAccessorImpl.invoke(NativeMethodAccessorImpl.java:62)\r\n\tat sun.reflect.DelegatingMethodAccessorImpl.invoke(DelegatingMethodAccessorImpl.java:43)\r\n\tat java.lang.reflect.Method.invoke(Method.java:498)\r\n\tat py4j.reflection.MethodInvoker.invoke(MethodInvoker.java:244)\r\n\tat py4j.reflection.ReflectionEngine.invoke(ReflectionEngine.java:357)\r\n\tat py4j.Gateway.invoke(Gateway.java:282)\r\n\tat py4j.commands.AbstractCommand.invokeMethod(AbstractCommand.java:132)\r\n\tat py4j.commands.CallCommand.execute(CallCommand.java:79)\r\n\tat py4j.ClientServerConnection.waitForCommands(ClientServerConnection.java:182)\r\n\tat py4j.ClientServerConnection.run(ClientServerConnection.java:106)\r\n\tat java.lang.Thread.run(Thread.java:750)\r\nCaused by: org.apache.spark.SparkException: Python worker failed to connect back.\r\n\tat org.apache.spark.api.python.PythonWorkerFactory.createSimpleWorker(PythonWorkerFactory.scala:189)\r\n\tat org.apache.spark.api.python.PythonWorkerFactory.create(PythonWorkerFactory.scala:109)\r\n\tat org.apache.spark.SparkEnv.createPythonWorker(SparkEnv.scala:124)\r\n\tat org.apache.spark.api.python.BasePythonRunner.compute(PythonRunner.scala:164)\r\n\tat org.apache.spark.api.python.PythonRDD.compute(PythonRDD.scala:65)\r\n\tat org.apache.spark.rdd.RDD.computeOrReadCheckpoint(RDD.scala:365)\r\n\tat org.apache.spark.rdd.RDD.iterator(RDD.scala:329)\r\n\tat org.apache.spark.rdd.MapPartitionsRDD.compute(MapPartitionsRDD.scala:52)\r\n\tat org.apache.spark.rdd.RDD.computeOrReadCheckpoint(RDD.scala:365)\r\n\tat org.apache.spark.rdd.RDD.iterator(RDD.scala:329)\r\n\tat org.apache.spark.rdd.MapPartitionsRDD.compute(MapPartitionsRDD.scala:52)\r\n\tat org.apache.spark.rdd.RDD.computeOrReadCheckpoint(RDD.scala:365)\r\n\tat org.apache.spark.rdd.RDD.iterator(RDD.scala:329)\r\n\tat org.apache.spark.rdd.MapPartitionsRDD.compute(MapPartitionsRDD.scala:52)\r\n\tat org.apache.spark.rdd.RDD.computeOrReadCheckpoint(RDD.scala:365)\r\n\tat org.apache.spark.rdd.RDD.iterator(RDD.scala:329)\r\n\tat org.apache.spark.rdd.MapPartitionsRDD.compute(MapPartitionsRDD.scala:52)\r\n\tat org.apache.spark.rdd.RDD.computeOrReadCheckpoint(RDD.scala:365)\r\n\tat org.apache.spark.rdd.RDD.iterator(RDD.scala:329)\r\n\tat org.apache.spark.rdd.MapPartitionsRDD.compute(MapPartitionsRDD.scala:52)\r\n\tat org.apache.spark.rdd.RDD.computeOrReadCheckpoint(RDD.scala:365)\r\n\tat org.apache.spark.rdd.RDD.iterator(RDD.scala:329)\r\n\tat org.apache.spark.sql.execution.SQLExecutionRDD.compute(SQLExecutionRDD.scala:55)\r\n\tat org.apache.spark.rdd.RDD.computeOrReadCheckpoint(RDD.scala:365)\r\n\tat org.apache.spark.rdd.RDD.iterator(RDD.scala:329)\r\n\tat org.apache.spark.rdd.MapPartitionsRDD.compute(MapPartitionsRDD.scala:52)\r\n\tat org.apache.spark.rdd.RDD.computeOrReadCheckpoint(RDD.scala:365)\r\n\tat org.apache.spark.rdd.RDD.iterator(RDD.scala:329)\r\n\tat org.apache.spark.scheduler.ResultTask.runTask(ResultTask.scala:90)\r\n\tat org.apache.spark.scheduler.Task.run(Task.scala:136)\r\n\tat org.apache.spark.executor.Executor$TaskRunner.$anonfun$run$3(Executor.scala:548)\r\n\tat org.apache.spark.util.Utils$.tryWithSafeFinally(Utils.scala:1504)\r\n\tat org.apache.spark.executor.Executor$TaskRunner.run(Executor.scala:551)\r\n\tat java.util.concurrent.ThreadPoolExecutor.runWorker(ThreadPoolExecutor.java:1149)\r\n\tat java.util.concurrent.ThreadPoolExecutor$Worker.run(ThreadPoolExecutor.java:624)\r\n\t... 1 more\r\nCaused by: java.net.SocketTimeoutException: Accept timed out\r\n\tat java.net.DualStackPlainSocketImpl.waitForNewConnection(Native Method)\r\n\tat java.net.DualStackPlainSocketImpl.socketAccept(DualStackPlainSocketImpl.java:131)\r\n\tat java.net.AbstractPlainSocketImpl.accept(AbstractPlainSocketImpl.java:535)\r\n\tat java.net.PlainSocketImpl.accept(PlainSocketImpl.java:189)\r\n\tat java.net.ServerSocket.implAccept(ServerSocket.java:545)\r\n\tat java.net.ServerSocket.accept(ServerSocket.java:513)\r\n\tat org.apache.spark.api.python.PythonWorkerFactory.createSimpleWorker(PythonWorkerFactory.scala:176)\r\n\t... 35 more\r\n"
     ]
    }
   ],
   "source": [
    "# establish a connection to mariadb\n",
    "\n",
    "try:\n",
    "    cnx = mysql.connector.connect(user=user, password=password,\n",
    "                              host=host,\n",
    "                              database=database)\n",
    "    cursor = cnx.cursor()\n",
    "\n",
    "except mysql.connector.Error as err:\n",
    "    print(\"Error connecting to MariaDB: {}\".format(err))\n",
    "    exit()\n",
    "    \n",
    "#load the data into the new table\n",
    "# spark_loan_df.write.format(\"jdbc\").options(\n",
    "#   url=\"jdbc:mysql://localhost:3306/creditcard_capstone\",\n",
    "#   driver=\"com.mysql.jdbc.Driver\",\n",
    "#   dbtable=\"CDW_SAPP_loan_application\",\n",
    "#   user=user,\n",
    "#    password=password\n",
    "#  ).mode(\"overwrite\").save()\n",
    "\n",
    " \n",
    "spark_loan_df.write \\\n",
    "    .format(\"jdbc\") \\\n",
    "    .option(\"url\", \"jdbc:mysql://localhost:3306/creditcard_capstone\") \\\n",
    "    .option(\"driver\", \"com.mysql.jdbc.Driver\") \\\n",
    "    .option(\"dbtable\", \"CDW_SAPP_loan_application\") \\\n",
    "    .option(\"user\", user) \\\n",
    "    .option(\"password\", password) \\\n",
    "    .mode(\"overwrite\") \\\n",
    "    .save()\n",
    "\n",
    "#cnx.commit()\n",
    "# close the MySQL connection\n",
    "cnx.close()"
   ]
  },
  {
   "cell_type": "code",
   "execution_count": null,
   "metadata": {},
   "outputs": [],
   "source": []
  },
  {
   "cell_type": "code",
   "execution_count": 9,
   "metadata": {},
   "outputs": [],
   "source": [
    "spark.stop()"
   ]
  },
  {
   "cell_type": "code",
   "execution_count": null,
   "metadata": {},
   "outputs": [],
   "source": [
    "# Plot the percentage of applications approved for self-employed applicants\n",
    "\n",
    "\n"
   ]
  },
  {
   "cell_type": "code",
   "execution_count": null,
   "metadata": {},
   "outputs": [],
   "source": [
    "# Plot the percentage of rejection for married male applicants\n"
   ]
  },
  {
   "cell_type": "code",
   "execution_count": null,
   "metadata": {},
   "outputs": [],
   "source": [
    "# Stop SparkSession\n",
    "spark.stop()"
   ]
  }
 ],
 "metadata": {
  "kernelspec": {
   "display_name": "dataEngProject",
   "language": "python",
   "name": "python3"
  },
  "language_info": {
   "codemirror_mode": {
    "name": "ipython",
    "version": 3
   },
   "file_extension": ".py",
   "mimetype": "text/x-python",
   "name": "python",
   "nbconvert_exporter": "python",
   "pygments_lexer": "ipython3",
   "version": "3.10.4"
  },
  "orig_nbformat": 4,
  "vscode": {
   "interpreter": {
    "hash": "8902dac6de0f0601c5544c9b48951fcdb7e43930f250d25f89f0a45e542bcad5"
   }
  }
 },
 "nbformat": 4,
 "nbformat_minor": 2
}
