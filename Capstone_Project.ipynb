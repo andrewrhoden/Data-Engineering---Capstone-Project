{
 "cells": [
  {
   "attachments": {},
   "cell_type": "markdown",
   "metadata": {},
   "source": [
    "## Overview:  \n",
    "This capstone project is your opportunity to demonstrate the knowledge and abilities you have acquired throughout the course.\n",
    "This Capstone Project requires learners to work with the following technologies to manage an ETL process for a Loan Application dataset and a Credit Card dataset: Python (Pandas, advanced modules e.g., Matplotlib), MariaDB, Apache Spark (Spark Core, Spark SQL), and Python Visualization and Analytics libraries. Learners are expected to set up their environments and perform installations on their local machines. \n"
   ]
  },
  {
   "attachments": {},
   "cell_type": "markdown",
   "metadata": {},
   "source": [
    "![My Image](workflow.jpg)"
   ]
  },
  {
   "cell_type": "code",
   "execution_count": 1,
   "metadata": {},
   "outputs": [],
   "source": [
    "from pyspark.sql import SparkSession\n",
    "from pyspark.sql.types import StringType, IntegerType,TimestampType\n",
    "from datetime import datetime\n",
    "import pyspark.sql.functions as F\n",
    "from pyspark.sql.functions import  concat_ws, regexp_replace, concat,lit,col,udf, lpad,when, length,expr,substring\n",
    "import re\n",
    "import requests\n",
    "from pyspark import SparkContext, SparkConf\n",
    "import pandas as pd\n",
    "import seaborn as sns\n",
    "import matplotlib.pyplot as plt\n",
    "import mysql.connector\n",
    "import configparser\n",
    "import pyinputplus as pyip\n"
   ]
  },
  {
   "cell_type": "code",
   "execution_count": 2,
   "metadata": {},
   "outputs": [],
   "source": [
    "config = configparser.ConfigParser()\n",
    "config.read('config.ini')\n",
    "\n",
    "host = config['DATABASE']['host']\n",
    "user = config['DATABASE']['user']\n",
    "password = config['DATABASE']['password']\n",
    "database = config['DATABASE']['database']"
   ]
  },
  {
   "attachments": {},
   "cell_type": "markdown",
   "metadata": {},
   "source": []
  },
  {
   "cell_type": "code",
   "execution_count": 4,
   "metadata": {},
   "outputs": [],
   "source": [
    "spark = SparkSession.builder.appName(\"CreditCardSystem\").getOrCreate()\n"
   ]
  },
  {
   "cell_type": "code",
   "execution_count": 5,
   "metadata": {},
   "outputs": [],
   "source": [
    "branch_df=spark.read.json(\"cdw_sapp_branch.json\")\n",
    "creditcard_df=spark.read.json(\"cdw_sapp_credit.json\")\n",
    "customer_df=spark.read.json(\"cdw_sapp_custmer.json\")\n"
   ]
  },
  {
   "attachments": {},
   "cell_type": "markdown",
   "metadata": {},
   "source": [
    "### Transform Customer Data frame"
   ]
  },
  {
   "cell_type": "code",
   "execution_count": 6,
   "metadata": {},
   "outputs": [],
   "source": [
    "# add area code 555 as the first 3 characters for customer phone number, so we can  convert cust_phone column into this format (XXX)XXX-XXXX later\n",
    "customer_df = customer_df.withColumn(\"CUST_PHONE\", concat(lit(\"555\"), customer_df[\"CUST_PHONE\"]))"
   ]
  },
  {
   "cell_type": "code",
   "execution_count": 7,
   "metadata": {},
   "outputs": [],
   "source": [
    "customer_df = customer_df.withColumn(\"cust_phone\", \n",
    "                   expr(\"concat('(', substring(cust_phone, 1, 3), ')',  \" \n",
    "                        \"substring(cust_phone, 4, 3), '-', \"\n",
    "                        \"substring(cust_phone, 7, 4))\").cast(\"string\"))\n",
    " \n",
    "customer_df = customer_df.withColumn(\"FIRST_NAME\", F.initcap(\"FIRST_NAME\").cast(\"string\"))\n",
    "customer_df = customer_df.withColumn(\"SSN\", customer_df[\"SSN\"].cast(\"int\"))\n",
    "customer_df = customer_df.withColumn(\"MIDDLE_NAME\", F.lower(customer_df[\"MIDDLE_NAME\"]).cast(\"string\"))\n",
    "customer_df = customer_df.withColumn(\"LAST_NAME\", F.initcap(customer_df[\"LAST_NAME\"]).cast(\"string\"))\n",
    "customer_df = customer_df.withColumn(\"FULL_STREET_ADDRESS\", F.concat_ws(\", \", customer_df[\"STREET_NAME\"], customer_df[\"APT_NO\"]).cast(\"string\"))\n",
    "customer_df = customer_df.withColumn(\"CREDIT_CARD_NO\", customer_df[\"CREDIT_CARD_NO\"].cast(\"string\"))\n",
    "customer_df = customer_df.withColumn(\"CUST_CITY\", customer_df[\"CUST_CITY\"].cast(\"string\"))\n",
    "customer_df = customer_df.withColumn(\"CUST_STATE\", customer_df[\"CUST_STATE\"].cast(\"string\"))\n",
    "customer_df = customer_df.withColumn(\"CUST_COUNTRY\", customer_df[\"CUST_COUNTRY\"].cast(\"string\"))\n",
    "customer_df = customer_df.withColumn(\"CUST_ZIP\", customer_df[\"CUST_ZIP\"].cast(\"int\"))\n",
    "\n",
    " \n",
    "#customer_df = customer_df.withColumn(\"CUST_PHONE\", F.regexp_replace(customer_df[\"CUST_PHONE\"], r'^(\\d{3})(\\d{3})(\\d{4})$', r'(\\1)\\2-\\3').cast(\"string\"))\n",
    "customer_df = customer_df.withColumn(\"CUST_EMAIL\", customer_df[\"CUST_EMAIL\"].cast(\"string\"))\n",
    "customer_df = customer_df.withColumn(\"LAST_UPDATED\", customer_df[\"LAST_UPDATED\"].cast(\"timestamp\"))\n",
    "\n",
    "customer_df=customer_df.select(\"SSN\", \"FIRST_NAME\",\"MIDDLE_NAME\",\"LAST_NAME\",\"CREDIT_CARD_NO\",\"FULL_STREET_ADDRESS\",\"CUST_CITY\", \"CUST_STATE\",\"CUST_COUNTRY\",\"CUST_ZIP\",\"CUST_PHONE\",\"CUST_EMAIL\",\"LAST_UPDATED\")"
   ]
  },
  {
   "cell_type": "code",
   "execution_count": 8,
   "metadata": {},
   "outputs": [
    {
     "name": "stdout",
     "output_type": "stream",
     "text": [
      "+---------+----------+-----------+---------+----------------+--------------------+------------+----------+-------------+--------+-------------+-------------------+-------------------+\n",
      "|      SSN|FIRST_NAME|MIDDLE_NAME|LAST_NAME|  CREDIT_CARD_NO| FULL_STREET_ADDRESS|   CUST_CITY|CUST_STATE| CUST_COUNTRY|CUST_ZIP|   CUST_PHONE|         CUST_EMAIL|       LAST_UPDATED|\n",
      "+---------+----------+-----------+---------+----------------+--------------------+------------+----------+-------------+--------+-------------+-------------------+-------------------+\n",
      "|123456100|      Alec|         wm|   Hooper|4210653310061055|Main Street North...|     Natchez|        MS|United States|   39120|(555)123-7818|AHooper@example.com|2018-04-21 12:49:02|\n",
      "|123453023|      Etta|    brendan|   Holman|4210653310102868|  Redwood Drive, 829|Wethersfield|        CT|United States|    6109|(555)123-8933|EHolman@example.com|2018-04-21 12:49:02|\n",
      "|123454487|    Wilber|   ezequiel|   Dunham|4210653310116272|12th Street East,...|     Huntley|        IL|United States|   60142|(555)124-3018|WDunham@example.com|2018-04-21 12:49:02|\n",
      "|123459758|   Eugenio|      trina|    Hardy|4210653310195948|Country Club Road...|   NewBerlin|        WI|United States|   53151|(555)124-3215| EHardy@example.com|2018-04-21 12:49:02|\n",
      "|123454431|   Wilfred|        may|    Ayers|4210653310356919| Madison Street, 301|      ElPaso|        TX|United States|   79930|(555)124-2074| WAyers@example.com|2018-04-21 12:49:02|\n",
      "+---------+----------+-----------+---------+----------------+--------------------+------------+----------+-------------+--------+-------------+-------------------+-------------------+\n",
      "only showing top 5 rows\n",
      "\n"
     ]
    }
   ],
   "source": [
    "customer_df.show(5)\n"
   ]
  },
  {
   "cell_type": "code",
   "execution_count": null,
   "metadata": {},
   "outputs": [],
   "source": [
    "customer_df.printSchema()"
   ]
  },
  {
   "cell_type": "markdown",
   "metadata": {},
   "source": [
    "### transform branch data frame"
   ]
  },
  {
   "cell_type": "code",
   "execution_count": 9,
   "metadata": {},
   "outputs": [],
   "source": [
    "# Convert column data types\n",
    "\n",
    "\n",
    "branch_df = branch_df.withColumn(\"BRANCH_PHONE\", \n",
    "                   expr(\"concat('(', substring(BRANCH_PHONE, 1, 3), ')',  \" \n",
    "                        \"substring(BRANCH_PHONE, 4, 3), '-', \"\n",
    "                        \"substring(BRANCH_PHONE, 7, 4))\").cast(\"string\"))\n",
    "\n",
    "branch_df = branch_df.withColumn(\"BRANCH_CODE\", branch_df[\"BRANCH_CODE\"].cast(\"int\"))\n",
    "branch_df = branch_df.withColumn(\"BRANCH_NAME\", branch_df[\"BRANCH_NAME\"].cast(\"string\"))\n",
    "branch_df = branch_df.withColumn(\"BRANCH_STREET\", branch_df[\"BRANCH_STREET\"].cast(\"string\"))\n",
    "branch_df = branch_df.withColumn(\"BRANCH_CITY\", branch_df[\"BRANCH_CITY\"].cast(\"string\"))\n",
    "branch_df = branch_df.withColumn(\"BRANCH_STATE\", branch_df[\"BRANCH_STATE\"].cast(\"string\"))\n",
    "branch_df = branch_df.withColumn(\"BRANCH_ZIP\", F.when(branch_df[\"BRANCH_ZIP\"].isNull(), 99999).otherwise(branch_df[\"BRANCH_ZIP\"].cast(\"int\")))\n",
    "#branch_df = branch_df.withColumn(\"BRANCH_PHONE\", F.regexp_replace(branch_df[\"BRANCH_PHONE\"], r\"^(\\d{3})(\\d{3})(\\d{4})$\", r\"(\\1)\\2-\\3\"))\n",
    "branch_df = branch_df.withColumn(\"LAST_UPDATED\", branch_df[\"LAST_UPDATED\"].cast(\"timestamp\"))\n",
    "\n",
    "# Select columns \n",
    "branch_df = branch_df.select(\"BRANCH_CODE\", \"BRANCH_NAME\", \"BRANCH_STREET\", \"BRANCH_CITY\", \"BRANCH_STATE\", \"BRANCH_ZIP\", \"BRANCH_PHONE\", \"LAST_UPDATED\")"
   ]
  },
  {
   "cell_type": "code",
   "execution_count": null,
   "metadata": {},
   "outputs": [],
   "source": [
    "branch_df.printSchema()"
   ]
  },
  {
   "cell_type": "code",
   "execution_count": 10,
   "metadata": {},
   "outputs": [
    {
     "name": "stdout",
     "output_type": "stream",
     "text": [
      "+-----------+------------+-----------------+-----------------+------------+----------+-------------+-------------------+\n",
      "|BRANCH_CODE| BRANCH_NAME|    BRANCH_STREET|      BRANCH_CITY|BRANCH_STATE|BRANCH_ZIP| BRANCH_PHONE|       LAST_UPDATED|\n",
      "+-----------+------------+-----------------+-----------------+------------+----------+-------------+-------------------+\n",
      "|          1|Example Bank|     Bridle Court|        Lakeville|          MN|     55044|(123)456-5276|2018-04-18 16:51:47|\n",
      "|          2|Example Bank|Washington Street|          Huntley|          IL|     60142|(123)461-8993|2018-04-18 16:51:47|\n",
      "|          3|Example Bank|    Warren Street|SouthRichmondHill|          NY|     11419|(123)498-5926|2018-04-18 16:51:47|\n",
      "|          4|Example Bank| Cleveland Street|       Middleburg|          FL|     32068|(123)466-3064|2018-04-18 16:51:47|\n",
      "|          5|Example Bank|      14th Street|    KingOfPrussia|          PA|     19406|(123)484-9701|2018-04-18 16:51:47|\n",
      "+-----------+------------+-----------------+-----------------+------------+----------+-------------+-------------------+\n",
      "only showing top 5 rows\n",
      "\n"
     ]
    }
   ],
   "source": [
    "branch_df.show(5)"
   ]
  },
  {
   "attachments": {},
   "cell_type": "markdown",
   "metadata": {},
   "source": [
    "### TRANSFORM CREDIT CARD DATA "
   ]
  },
  {
   "cell_type": "code",
   "execution_count": 11,
   "metadata": {},
   "outputs": [],
   "source": [
    "# Convert DAY, MONTH and YEAR into date format and create new column TIMEID with YYYYMMDD format\n",
    "creditcard_df = creditcard_df.withColumn('TIMEID', concat(creditcard_df.YEAR, lpad(creditcard_df.MONTH, 2, '0'), lpad(creditcard_df.DAY, 2, '0')).cast('int'))\n"
   ]
  },
  {
   "cell_type": "code",
   "execution_count": 12,
   "metadata": {},
   "outputs": [],
   "source": [
    " \n",
    "\n",
    "\n",
    "# Rename CREDIT_CARD_NO column as per the mapping document\n",
    "creditcard_df = creditcard_df.withColumnRenamed('CREDIT_CARD_NO', 'CUST_CC_NO') \n",
    "\n",
    "# Convert datatype of columns as per the mapping document\n",
    "creditcard_df = creditcard_df.withColumn('CUST_CC_NO', creditcard_df['CUST_CC_NO'].cast('string')) \n",
    "creditcard_df = creditcard_df.withColumn('CUST_SSN', creditcard_df['CUST_SSN'].cast('int')) \n",
    "creditcard_df = creditcard_df.withColumn('BRANCH_CODE', creditcard_df['BRANCH_CODE'].cast('int')) \n",
    "creditcard_df = creditcard_df.withColumn('TRANSACTION_TYPE', creditcard_df['TRANSACTION_TYPE'].cast('string')) \n",
    "creditcard_df = creditcard_df.withColumn('TRANSACTION_VALUE', creditcard_df['TRANSACTION_VALUE'].cast('double')) \n",
    "creditcard_df = creditcard_df.withColumn('TRANSACTION_ID', creditcard_df['TRANSACTION_ID'].cast('int')) \n",
    "creditcard_df = creditcard_df.withColumn('TIMEID', creditcard_df['TIMEID'].cast('string'))\n",
    "creditcard_df=creditcard_df.select(\"CUST_CC_NO\",\"TIMEID\",\"CUST_SSN\",\"BRANCH_CODE\",\"TRANSACTION_TYPE\",\"TRANSACTION_VALUE\",\"TRANSACTION_ID\")\n",
    " \n"
   ]
  },
  {
   "cell_type": "code",
   "execution_count": null,
   "metadata": {},
   "outputs": [],
   "source": [
    "creditcard_df.printSchema()"
   ]
  },
  {
   "cell_type": "code",
   "execution_count": 13,
   "metadata": {},
   "outputs": [
    {
     "name": "stdout",
     "output_type": "stream",
     "text": [
      "+----------------+--------+---------+-----------+----------------+-----------------+--------------+\n",
      "|      CUST_CC_NO|  TIMEID| CUST_SSN|BRANCH_CODE|TRANSACTION_TYPE|TRANSACTION_VALUE|TRANSACTION_ID|\n",
      "+----------------+--------+---------+-----------+----------------+-----------------+--------------+\n",
      "|4210653349028689|20180214|123459988|        114|       Education|             78.9|             1|\n",
      "|4210653349028689|20180320|123459988|         35|   Entertainment|            14.24|             2|\n",
      "|4210653349028689|20180708|123459988|        160|         Grocery|             56.7|             3|\n",
      "|4210653349028689|20180419|123459988|        114|   Entertainment|            59.73|             4|\n",
      "|4210653349028689|20181010|123459988|         93|             Gas|             3.59|             5|\n",
      "|4210653349028689|20180528|123459988|        164|       Education|             6.89|             6|\n",
      "|4210653349028689|20180519|123459988|        119|   Entertainment|            43.39|             7|\n",
      "|4210653349028689|20180808|123459988|         23|             Gas|            95.39|             8|\n",
      "|4210653349028689|20180318|123459988|        166|   Entertainment|            93.26|             9|\n",
      "|4210653349028689|20180903|123459988|         83|           Bills|           100.38|            10|\n",
      "+----------------+--------+---------+-----------+----------------+-----------------+--------------+\n",
      "only showing top 10 rows\n",
      "\n"
     ]
    }
   ],
   "source": [
    "creditcard_df.show(10)"
   ]
  },
  {
   "attachments": {},
   "cell_type": "markdown",
   "metadata": {},
   "source": [
    "### Data loading into Database"
   ]
  },
  {
   "cell_type": "code",
   "execution_count": 14,
   "metadata": {},
   "outputs": [],
   "source": [
    "# Connect to MariaDB server\n",
    "cnx = mysql.connector.connect(user=user, password=password,\n",
    "                              host=host)\n",
    "\n",
    "# Create database\n",
    "cursor = cnx.cursor()\n",
    "DB_NAME = 'creditcard_capstone'\n",
    "cursor.execute(\"CREATE DATABASE {} DEFAULT CHARACTER SET 'utf8'\".format(DB_NAME))"
   ]
  },
  {
   "cell_type": "code",
   "execution_count": 15,
   "metadata": {},
   "outputs": [],
   "source": [
    "# Connect to mariadb\n",
    "\n",
    "try:\n",
    "    cnx = mysql.connector.connect(user=user, password=password,\n",
    "                              host=host,\n",
    "                              database=database)\n",
    "    cursor = cnx.cursor()\n",
    "\n",
    "except mysql.connector.Error as err:\n",
    "    print(\"Error connecting to MariaDB: {}\".format(err))\n",
    "    exit()"
   ]
  },
  {
   "cell_type": "code",
   "execution_count": 16,
   "metadata": {},
   "outputs": [],
   "source": [
    "try:\n",
    "    cursor.execute(\"\"\"CREATE TABLE IF NOT EXISTS CDW_SAPP_BRANCH (\n",
    "        BRANCH_CODE INT PRIMARY KEY, \n",
    "        BRANCH_NAME VARCHAR(50) NOT NULL, \n",
    "        BRANCH_STREET VARCHAR(100) NOT NULL, \n",
    "        BRANCH_CITY VARCHAR(50) NOT NULL, \n",
    "        BRANCH_STATE VARCHAR(50) NOT NULL, \n",
    "        BRANCH_ZIP INT NOT NULL, \n",
    "        BRANCH_PHONE VARCHAR(20) NOT NULL, \n",
    "        LAST_UPDATED TIMESTAMP NOT NULL)\"\"\")\n",
    "    \n",
    "    cursor.execute(\"\"\"CREATE TABLE IF NOT EXISTS CDW_SAPP_CREDIT_CARD (\n",
    "        CUST_CC_NO VARCHAR(50) PRIMARY KEY, \n",
    "        TIMEID VARCHAR(8)NOT NULL, \n",
    "        CUST_SSN INT NOT NULL, \n",
    "        BRANCH_CODE INT NOT NULL, \n",
    "        TRANSACTION_TYPE VARCHAR(20) NOT NULL, \n",
    "        TRANSACTION_VALUE DOUBLE NOT NULL, \n",
    "        TRANSACTION_ID INT NOT NULL)\"\"\")\n",
    "    \n",
    "    cursor.execute(\"\"\"CREATE TABLE IF NOT EXISTS CDW_SAPP_CUSTOMER (\n",
    "        SSN INT PRIMARY KEY, \n",
    "        CREDIT_CARD_NO VARCHAR(50) NOT NULL, \n",
    "        CUST_FIRST_NAME VARCHAR(50) NOT NULL, \n",
    "        CUST_MIDDLE_NAME VARCHAR(50) NOT NULL, \n",
    "        CUST_LAST_NAME VARCHAR(50) NOT NULL, \n",
    "        CUST_STREET_ADDRESS VARCHAR(100) NOT NULL, \n",
    "        CUST_APT_NO VARCHAR(10) NOT NULL, \n",
    "        CUST_CITY VARCHAR(50) NOT NULL, \n",
    "        CUST_STATE VARCHAR(50) NOT NULL, \n",
    "        CUST_COUNTRY VARCHAR(50) NOT NULL, \n",
    "        CUST_ZIP INT NOT NULL, \n",
    "        CUST_PHONE VARCHAR(10) NOT NULL, \n",
    "        CUST_EMAIL VARCHAR(50) NOT NULL, \n",
    "        LAST_UPDATED TIMESTAMP NOT NULL)\"\"\")\n",
    "    \n",
    "except mysql.connector.Error as err:\n",
    "    print(\"Error creating tables: {}\".format(err))\n",
    "    exit()\n"
   ]
  },
  {
   "cell_type": "code",
   "execution_count": 20,
   "metadata": {},
   "outputs": [],
   "source": [
    "# Load the data into the database tables\n",
    "try:\n",
    "    branch_df.write.jdbc(url='jdbc:mysql://localhost:3306/creditcard_capstone', table='CDW_SAPP_BRANCH', mode='overwrite', properties={'user': user, 'password': password})\n",
    "    creditcard_df.write.jdbc(url='jdbc:mysql://localhost:3306/creditcard_capstone', table='CDW_SAPP_CREDIT_CARD', mode='overwrite', properties={'user': user, 'password': password})\n",
    "    customer_df.write.jdbc(url='jdbc:mysql://localhost:3306/creditcard_capstone', table='CDW_SAPP_CUSTOMER', mode='overwrite', properties={'user': user, 'password': password})\n",
    "except mysql.connector.Error as err:\n",
    "    print(\"Error loading data: {}\".format(err))\n",
    "    exit()\n"
   ]
  },
  {
   "cell_type": "code",
   "execution_count": 21,
   "metadata": {},
   "outputs": [],
   "source": [
    "# Close the database and cursor connection\n",
    "cursor.close()\n",
    "cnx.close()"
   ]
  },
  {
   "attachments": {},
   "cell_type": "markdown",
   "metadata": {},
   "source": [
    "### 2. Functional Requirements - Application Front-End"
   ]
  },
  {
   "attachments": {},
   "cell_type": "markdown",
   "metadata": {},
   "source": [
    " ##### Customer Details menu"
   ]
  },
  {
   "cell_type": "code",
   "execution_count": null,
   "metadata": {},
   "outputs": [],
   "source": [
    "\n",
    "\n",
    "def check_customer_details():\n",
    "    # code to check existing account details of a customer\n",
    "    pass\n",
    "\n",
    "def modify_customer_details():\n",
    "    # code to modify existing account details of a customer\n",
    "    pass\n",
    "\n",
    "def generate_monthly_bill():\n",
    "    # code to generate monthly bill for a credit card number for a given month and year\n",
    "    pass\n",
    "\n",
    "def display_customer_transactions():\n",
    "    # code to display transactions made by a customer between two dates, ordered by year, month, and day in descending order\n",
    "    pass\n",
    "\n",
    "while True:\n",
    "    print(\"Please select an option:\")\n",
    "    print(\"1. Check customer details\")\n",
    "    print(\"2. Modify customer details\")\n",
    "    print(\"3. Generate monthly bill\")\n",
    "    print(\"4. Display customer transactions\")\n",
    "    print(\"5. Exit\")\n",
    "    \n",
    "    choice = pyip.inputInt(\"Enter your choice: \", min=1, max=5)\n",
    "    \n",
    "    if choice == 1:\n",
    "        check_customer_details()\n",
    "    elif choice == 2:\n",
    "        modify_customer_details()\n",
    "    elif choice == 3:\n",
    "        generate_monthly_bill()\n",
    "    elif choice == 4:\n",
    "        display_customer_transactions()\n",
    "    elif choice == 5:\n",
    "        print(\"Exiting program.\")\n",
    "        break\n"
   ]
  },
  {
   "attachments": {},
   "cell_type": "markdown",
   "metadata": {},
   "source": []
  },
  {
   "attachments": {},
   "cell_type": "markdown",
   "metadata": {},
   "source": [
    "## Overview of LOAN application Data API\n",
    "Banks deal in all home loans. They have a presence across all urban, semi-urban, and rural areas. Customers first apply for a home loan; after that, a company will validate the customer's eligibility for a loan.\n",
    "Banks want to automate the loan eligibility process (in real-time) based on customer details provided while filling out the online application form. These details are Gender, Marital Status, Education, Number of Dependents, Income, Loan Amount, Credit History, and others. To automate this process, they have the task of identifying the customer segments to those who are eligible for loan amounts so that they can specifically target these customers. Here they have provided a partial dataset.\n"
   ]
  },
  {
   "attachments": {},
   "cell_type": "markdown",
   "metadata": {},
   "source": [
    "API Endpoint: https://raw.githubusercontent.com/platformps/LoanDataset/main/loan_data.json\n",
    "\n",
    "The above URL allows you to access information about loan application information. This dataset has all of the required fields for a loan application. You can access data from a REST API by sending an HTTP request and processing the response.\n"
   ]
  },
  {
   "cell_type": "code",
   "execution_count": null,
   "metadata": {},
   "outputs": [],
   "source": [
    "# Load data from API endpoint into Pandas dataframe\n",
    "url = 'https://raw.githubusercontent.com/platformps/LoanDataset/main/loan_data.json'\n",
    "response =requests.get(url)\n",
    "response_json = response.json()\n"
   ]
  },
  {
   "cell_type": "code",
   "execution_count": null,
   "metadata": {},
   "outputs": [],
   "source": [
    "print(\"Status code:\", response.status_code)"
   ]
  },
  {
   "cell_type": "code",
   "execution_count": null,
   "metadata": {},
   "outputs": [],
   "source": [
    "# Write the DataFrame to a SQL table in the \"creditcard_capstone\" database\n"
   ]
  },
  {
   "cell_type": "code",
   "execution_count": null,
   "metadata": {},
   "outputs": [],
   "source": []
  },
  {
   "cell_type": "code",
   "execution_count": null,
   "metadata": {},
   "outputs": [],
   "source": [
    "# Plot the percentage of applications approved for self-employed applicants\n",
    "\n",
    "\n"
   ]
  },
  {
   "cell_type": "code",
   "execution_count": null,
   "metadata": {},
   "outputs": [],
   "source": [
    "# Plot the percentage of rejection for married male applicants\n"
   ]
  },
  {
   "cell_type": "code",
   "execution_count": null,
   "metadata": {},
   "outputs": [],
   "source": [
    "# Stop SparkSession\n",
    "spark.stop()"
   ]
  }
 ],
 "metadata": {
  "kernelspec": {
   "display_name": "dataEngProject",
   "language": "python",
   "name": "python3"
  },
  "language_info": {
   "codemirror_mode": {
    "name": "ipython",
    "version": 3
   },
   "file_extension": ".py",
   "mimetype": "text/x-python",
   "name": "python",
   "nbconvert_exporter": "python",
   "pygments_lexer": "ipython3",
   "version": "3.10.4"
  },
  "orig_nbformat": 4,
  "vscode": {
   "interpreter": {
    "hash": "8902dac6de0f0601c5544c9b48951fcdb7e43930f250d25f89f0a45e542bcad5"
   }
  }
 },
 "nbformat": 4,
 "nbformat_minor": 2
}
